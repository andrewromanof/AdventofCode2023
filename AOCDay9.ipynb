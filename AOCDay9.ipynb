{
 "cells": [
  {
   "cell_type": "markdown",
   "id": "cf278350-1e25-4e7e-b09c-b2a283819995",
   "metadata": {},
   "source": [
    "# Advent of Code Day 9\n",
    "#### Problem in full can be found here: https://adventofcode.com/2023/day/9"
   ]
  },
  {
   "cell_type": "code",
   "execution_count": 23,
   "id": "506c7fab-0ff7-4e2c-88d1-e057baf8a8e2",
   "metadata": {},
   "outputs": [
    {
     "name": "stdout",
     "output_type": "stream",
     "text": [
      "1974913025\n",
      "884\n"
     ]
    }
   ],
   "source": [
    "# Open input file and examine each line to find a pattern in the line by breaking down the differences until all the\n",
    "# differences are 0 then start returning to find the next number in the pattern by doing the last number + the last number\n",
    "# in the differences\n",
    "file = open(\"inputday9.txt\")\n",
    "sum = 0\n",
    "sum2 = 0\n",
    "for line in file:\n",
    "    line = line.strip()\n",
    "    nums = []\n",
    "    num = \"\"\n",
    "    for char in line:\n",
    "        if char != ' ':\n",
    "            num += char\n",
    "        else:\n",
    "            nums.append(int(num))\n",
    "            num = \"\"\n",
    "    # part 1\n",
    "    # find the next number in the sequence at the end\n",
    "    nums.append(int(num))\n",
    "    sum += nums[-1] + getNextValue(nums)\n",
    "    # part 2\n",
    "    # find the next number in the sequence at the beginning\n",
    "    nums.reverse()\n",
    "    sum2 += nums[-1] + getNextValue(nums)\n",
    "file.close()\n",
    "print(sum)\n",
    "print(sum2)"
   ]
  },
  {
   "cell_type": "code",
   "execution_count": 24,
   "id": "1e031ab7-e616-4e38-afcb-e4996ef46f7d",
   "metadata": {},
   "outputs": [],
   "source": [
    "# Use recursion to find the continued differences until all the differences are 0 then return\n",
    "# the number + the last difference\n",
    "def getNextValue(nums):\n",
    "    i, j = 0, 1\n",
    "    differences = []\n",
    "    while i < len(nums)-1:\n",
    "        differences.append(nums[j]-nums[i])\n",
    "        i += 1\n",
    "        j += 1\n",
    "    if all(element == 0 for element in differences):\n",
    "        return 0\n",
    "    else:\n",
    "        num = getNextValue(differences)\n",
    "        return num + differences[-1]"
   ]
  },
  {
   "cell_type": "code",
   "execution_count": null,
   "id": "fcdc944a-92e1-46a3-9475-f383fa9ff401",
   "metadata": {},
   "outputs": [],
   "source": []
  }
 ],
 "metadata": {
  "kernelspec": {
   "display_name": "Python 3 (ipykernel)",
   "language": "python",
   "name": "python3"
  },
  "language_info": {
   "codemirror_mode": {
    "name": "ipython",
    "version": 3
   },
   "file_extension": ".py",
   "mimetype": "text/x-python",
   "name": "python",
   "nbconvert_exporter": "python",
   "pygments_lexer": "ipython3",
   "version": "3.10.12"
  }
 },
 "nbformat": 4,
 "nbformat_minor": 5
}
