{
 "cells": [
  {
   "cell_type": "markdown",
   "id": "386b7abd-a4a9-481a-93b9-c3dfb68f75fd",
   "metadata": {},
   "source": [
    "# Advent of Code Day 25\n",
    "#### Problem in full can be found here: https://adventofcode.com/2023/day/25"
   ]
  },
  {
   "cell_type": "code",
   "execution_count": 17,
   "id": "506c7fab-0ff7-4e2c-88d1-e057baf8a8e2",
   "metadata": {},
   "outputs": [
    {
     "name": "stdout",
     "output_type": "stream",
     "text": [
      "525264\n"
     ]
    }
   ],
   "source": [
    "# Given an input file that gives connections between things. Disconnect three connections so that there\n",
    "# are two seperate groups between the components (no component in group A will be connected to any component\n",
    "# to group B)\n",
    "import networkx as nx\n",
    "import math\n",
    "\n",
    "# Collect the input from file by have an edges list and adding\n",
    "# (host, address) as an edge\n",
    "file = open(\"inputday25.txt\")\n",
    "edges = []\n",
    "for line in file:\n",
    "    line = line.strip()\n",
    "    split = line.split(\":\")\n",
    "    host = split[0]\n",
    "    addresses = split[1][1::].split(\" \")\n",
    "    for address in addresses:\n",
    "        edges.append((host, address))\n",
    "file.close()\n",
    "\n",
    "# Creates the graph using the edges from the input\n",
    "# Graph with 1450 nodes and 3248 edges\n",
    "G = nx.from_edgelist(edges)\n",
    "# Removes 3 edges from the graph\n",
    "# nx.minimum_edge_cut is a function that returns the minimum edges to cut to disconnect the graph.\n",
    "# In our case, the rest of the code doesn't matter because it returns 3 edges but our problem wants\n",
    "# edges so it will produce the same result\n",
    "G.remove_edges_from(list(nx.minimum_edge_cut(G))[:3])\n",
    "# Connected components returns the different parts of the graph, since there are only two components\n",
    "# after the edge removal, it returns two lists of components\n",
    "a, b = nx.connected_components(G)\n",
    "# Print the result by taking product of the length of both components\n",
    "print(len(a) * len(b))"
   ]
  },
  {
   "cell_type": "code",
   "execution_count": null,
   "id": "2b9b6357-38cc-4f30-afd6-086c59fdad7e",
   "metadata": {},
   "outputs": [],
   "source": []
  }
 ],
 "metadata": {
  "kernelspec": {
   "display_name": "Python 3 (ipykernel)",
   "language": "python",
   "name": "python3"
  },
  "language_info": {
   "codemirror_mode": {
    "name": "ipython",
    "version": 3
   },
   "file_extension": ".py",
   "mimetype": "text/x-python",
   "name": "python",
   "nbconvert_exporter": "python",
   "pygments_lexer": "ipython3",
   "version": "3.10.12"
  }
 },
 "nbformat": 4,
 "nbformat_minor": 5
}
