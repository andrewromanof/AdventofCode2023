{
 "cells": [
  {
   "cell_type": "markdown",
   "id": "386b7abd-a4a9-481a-93b9-c3dfb68f75fd",
   "metadata": {},
   "source": [
    "# Advent of Code Day 23\n",
    "#### Problem in full can be found here: https://adventofcode.com/2023/day/23"
   ]
  },
  {
   "cell_type": "code",
   "execution_count": 111,
   "id": "e06a02b5-51d8-4092-9c65-5ff169420ac9",
   "metadata": {},
   "outputs": [
    {
     "name": "stdout",
     "output_type": "stream",
     "text": [
      "2358\n",
      "6182\n"
     ]
    }
   ],
   "source": [
    "# Given an input file that acts as a maze, find the longest path given from a starting location to a\n",
    "# end location\n",
    "# Part 1: has slopes '>' '<' 'v' '^' where it forces one direction\n",
    "# Part 2: remove the slopes\n",
    "\n",
    "# Get the input in a map\n",
    "file = open(\"inputday23.txt\")\n",
    "map = []\n",
    "for line in file:\n",
    "    line = line.strip()\n",
    "    map.append(list(line))\n",
    "file.close()\n",
    "\n",
    "# Since the input is too big and it takes too long to backtrack through everything,\n",
    "# the solution will first put everything in a weighted graph to drastically reduce\n",
    "# the number of visited locations and only visit those where multiple paths can be taken\n",
    "g = makeGraph(map, {}, (0, 1), (140, 139), set(), True)\n",
    "print(findMaxDistance(g, (0, 1), 0, 0))\n",
    "g2 = makeGraph(map, {}, (0, 1), (140, 139), set(), False)\n",
    "print(findMaxDistance(g2, (0, 1), 0, 0))"
   ]
  },
  {
   "cell_type": "code",
   "execution_count": 106,
   "id": "bc7c4c5f-942b-497e-b9cb-345f8e8b4338",
   "metadata": {},
   "outputs": [],
   "source": [
    "# This function recrusively creates a graph by given a starting node, collects the distance\n",
    "# of 1 way paths until it reaches a location where more than 1 path is possible or no paths\n",
    "# are possible (as once the end is reached, no paths are available)\n",
    "def makeGraph(map, graph, start, end, visited, slopes):\n",
    "    # Initialize a queue and the distance\n",
    "    q = deque([start])\n",
    "    distance = 0\n",
    "\n",
    "    # While the queue is not empty\n",
    "    while q:\n",
    "        # Get the current location\n",
    "        current = q.pop()\n",
    "        # Add the current location to the set of visited locations\n",
    "        visited.add(current)\n",
    "\n",
    "        # Get the possible paths\n",
    "        possiblePaths = getPaths(map, current, visited, slopes)\n",
    "        # If there is one possible path only, increase the distance and add the path to the queue\n",
    "        if len(possiblePaths) == 1:\n",
    "            q.append(possiblePaths[0])\n",
    "            distance += 1\n",
    "        # If there is 0 or more than 1 path, update the graph and if there is more than 1 path,\n",
    "        # recursively call the function again with the new starting location\n",
    "        else:\n",
    "            graph[start] = (possiblePaths, distance)\n",
    "            for path in possiblePaths:\n",
    "                graph = makeGraph(map, graph, path, end, visited, slopes)\n",
    "\n",
    "    # Return the graph\n",
    "    return graph"
   ]
  },
  {
   "cell_type": "code",
   "execution_count": 109,
   "id": "45820204-7940-489e-8c18-ff7d0cd35c64",
   "metadata": {},
   "outputs": [],
   "source": [
    "# This function returns a list of possible paths given the current location\n",
    "def getPaths(map, current, visited, slopes):\n",
    "    # Initialize the variables\n",
    "    x, y = current[0], current[1]\n",
    "    symbol = map[x][y]\n",
    "    paths = []\n",
    "\n",
    "    # If the direction of the path can be any direction\n",
    "    if symbol == '.' or not slopes:\n",
    "        for direction in [(0, 1), (0, -1), (1, 0), (-1, 0)]:\n",
    "            if 0 <= x + direction[0] < len(map) and 0 <= y + direction[1] < len(map):\n",
    "                newX, newY = x + direction[0], y + direction[1]\n",
    "                if map[newX][newY] != '#' and (newX, newY) not in visited:\n",
    "                    paths.append((newX, newY))\n",
    "    # If the direction of the path has to be a specific direction\n",
    "    elif symbol == 'v': \n",
    "        paths.append((x + 1, y))\n",
    "    elif symbol == '^': \n",
    "        paths.append((x - 1, y))\n",
    "    elif symbol == '>': \n",
    "        paths.append((x, y + 1))\n",
    "    elif symbol == '<': \n",
    "        paths.append((x, y - 1))\n",
    "\n",
    "    # Return the paths\n",
    "    return paths"
   ]
  },
  {
   "cell_type": "code",
   "execution_count": 62,
   "id": "b2e5635d-aeaa-4976-9b7d-0c6685dc0c41",
   "metadata": {},
   "outputs": [],
   "source": [
    "# This function recursively finds the maximum distance by looping through all paths and finding\n",
    "# the distance from the start to the end\n",
    "def findMaxDistance(g, index, distance, maxDistance):\n",
    "    # If the length is 0, it means this is the end\n",
    "    if len(g[index][0]) == 0:\n",
    "        # Add up the final distance to finish off the path\n",
    "        distance += g[index][1]\n",
    "        # Take the max of the current distance and max distance\n",
    "        maxDistance = max(distance, maxDistance)\n",
    "        # Return the max distance\n",
    "        return maxDistance\n",
    "\n",
    "    # If it is not the end (the list is not []) then recursively call the function\n",
    "    # with updated variables for all the paths\n",
    "    for path in g[index][0]:\n",
    "        maxDistance = findMaxDistance(g, path, distance+g[index][1], maxDistance)\n",
    "\n",
    "    # Return the max distance\n",
    "    return maxDistance"
   ]
  },
  {
   "cell_type": "code",
   "execution_count": null,
   "id": "220d9a54-89cd-4846-916e-ad904b3c0290",
   "metadata": {},
   "outputs": [],
   "source": []
  }
 ],
 "metadata": {
  "kernelspec": {
   "display_name": "Python 3 (ipykernel)",
   "language": "python",
   "name": "python3"
  },
  "language_info": {
   "codemirror_mode": {
    "name": "ipython",
    "version": 3
   },
   "file_extension": ".py",
   "mimetype": "text/x-python",
   "name": "python",
   "nbconvert_exporter": "python",
   "pygments_lexer": "ipython3",
   "version": "3.10.12"
  }
 },
 "nbformat": 4,
 "nbformat_minor": 5
}
