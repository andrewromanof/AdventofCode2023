{
 "cells": [
  {
   "cell_type": "markdown",
   "id": "386b7abd-a4a9-481a-93b9-c3dfb68f75fd",
   "metadata": {},
   "source": [
    "# Advent of Code Day 23\n",
    "#### Problem in full can be found here: https://adventofcode.com/2023/day/23"
   ]
  },
  {
   "cell_type": "code",
   "execution_count": 85,
   "id": "506c7fab-0ff7-4e2c-88d1-e057baf8a8e2",
   "metadata": {},
   "outputs": [
    {
     "name": "stdout",
     "output_type": "stream",
     "text": [
      "2358\n",
      "6586\n"
     ]
    }
   ],
   "source": [
    "# The input is too big to use it fully, so instead of using the map, create a graph that will add the\n",
    "# possible nodes to the graph then recursively find the longest path using the graph rather than the map\n",
    "# Part 1: has slopes '>' '<' 'v' '^' where it forces one direction\n",
    "# Part 2: remove the slopes\n",
    "\n",
    "# Get the input in a map\n",
    "file = open(\"inputday23.txt\")\n",
    "map = []\n",
    "for line in file:\n",
    "    line = line.strip()\n",
    "    map.append(list(line))\n",
    "file.close()\n",
    "\n",
    "# Get height, width of grid\n",
    "height, width = len(grid), len(grid[0])\n",
    "\n",
    "# Update the starting and end point of grid to not be on the edge\n",
    "map[0][1] = '#'\n",
    "map[height - 1][width - 2] = '#'\n",
    "start = (1, 1)\n",
    "end = (height - 2, width - 2)\n",
    "\n",
    "# Get the graph and find the longest path and add 2 to it because 2 points were removed above\n",
    "graph = createGraph(grid, start, end)\n",
    "print(findHikes(graph, start, end) + 2)\n",
    "# Update the graph to ignore slopes and find the next\n",
    "g = graph_from_grid(grid, src, dst, ignore_slopes=True)\n",
    "print(longest_path(g, src, dst) + 2)"
   ]
  },
  {
   "cell_type": "code",
   "execution_count": 46,
   "id": "0702b29c-5c2d-4eea-acb4-821c42497aec",
   "metadata": {},
   "outputs": [],
   "source": [
    "from collections import defaultdict, deque\n",
    "\n",
    "def createGraph(map, current, end, ignore_slopes=False):\n",
    "    # Initialize graph, queue, seen\n",
    "\tg = defaultdict(list)\n",
    "\tq = deque([src])\n",
    "\tseen = set()\n",
    "\n",
    "    # While the queue is not empty\n",
    "\twhile q:\n",
    "        # Pop the row column of the queue\n",
    "\t\trc = q.popleft() # (row, column)\n",
    "        # If the row column has been seen already, go next\n",
    "\t\tif rc in seen:\n",
    "\t\t\tcontinue\n",
    "\n",
    "        # Add row column to seen\n",
    "\t\tseen.add(rc)\n",
    "\n",
    "        # Find the adjacent nodes on the current row column\n",
    "\t\tfor n, dist in adjacent_nodes(map, rc, current, end, ignore_slopes): # (r, c), distance\n",
    "            # Add the node to the graph\n",
    "\t\t\tg[rc].append((n, dist))\n",
    "            # Add the row, column to the queue\n",
    "\t\t\tq.append(n)\n",
    "\n",
    "    # Return the graph\n",
    "\treturn g"
   ]
  },
  {
   "cell_type": "code",
   "execution_count": 69,
   "id": "819dbc0a-a7bf-49de-8747-f60e5d2e3ad1",
   "metadata": {},
   "outputs": [],
   "source": [
    "def adjacent_nodes(map, rc, current, end, ignore_slopes):\n",
    "    # Initialize queue, seen\n",
    "    q = deque([(rc, 0)])\n",
    "    seen = set()\n",
    "    \n",
    "    # While the queue is not empty\n",
    "    while q:\n",
    "        # Pop the row column and distance from source\n",
    "        rc, dist = q.popleft()\n",
    "        # Add to seen\n",
    "        seen.add(rc)\n",
    "        \n",
    "        # Collect the possible paths\n",
    "        possiblePaths = findPaths(map, rc, ignore_slopes)\n",
    "        for n in neighbors(grid, *rc, ignore_slopes): # n = (r, c)\n",
    "            # If the path has been visited already, go to the next\n",
    "            if n in seen:\n",
    "                continue\n",
    "            \n",
    "            # If the path is a node, return it to the graph\n",
    "            if is_node(map, n, current, end, ignore_slopes, possiblePaths):\n",
    "                # Yield returns the (r, c), distance + 1 but then continues to execute the function still\n",
    "                yield (n, dist + 1)\n",
    "                continue\n",
    "            # Add the next path to the queue\n",
    "            q.append((n, dist + 1))"
   ]
  },
  {
   "cell_type": "code",
   "execution_count": 77,
   "id": "cea721ae-13db-4691-a161-2aad7af8d3c2",
   "metadata": {},
   "outputs": [],
   "source": [
    "def is_node(map, rc, current, end, ignore_slopes, possiblePaths):\n",
    "    # Return true if the current row, column is the source, destination or has more than 2 possible moves\n",
    "    return rc == current or rc == end or num_neighbors(grid, *rc, ignore_slopes) > 2"
   ]
  },
  {
   "cell_type": "code",
   "execution_count": 50,
   "id": "a43f60a3-760e-45b4-8544-d9874828cc10",
   "metadata": {},
   "outputs": [],
   "source": [
    "# A function that finds a path and returns the max length of steps for the path\n",
    "def findHikes(graph, current, end, distance=0, seen=set()):  \n",
    "    # If the destination is reached, return the distance\n",
    "\tif current == end:\n",
    "\t\treturn distance\n",
    "\n",
    "    # Initialize the best distance and seen\n",
    "\tbest = 0\n",
    "\tseen.add(current)\n",
    "\n",
    "    # For each neighbor and distance in the graph\n",
    "\tfor neighbor, weight in graph[current]:\n",
    "        # If the neighbour has already been visited, go to the next\n",
    "\t\tif neighbor in seen:\n",
    "\t\t\tcontinue\n",
    "\n",
    "        # Recursively find the best by taking the max of the current best and the neighbor best\n",
    "\t\tbest = max(best, longest_path(graph, neighbor, end, distance + weight))\n",
    "\n",
    "    # Remove current from the set\n",
    "\tseen.remove(current)\n",
    "    # Return the best distance (largest)\n",
    "\treturn best"
   ]
  },
  {
   "cell_type": "code",
   "execution_count": 83,
   "id": "d97fb8fe-0cee-4b5a-a566-400e6c8a8164",
   "metadata": {},
   "outputs": [],
   "source": [
    "def neighbors(grid, r, c, ignore_slopes):\n",
    "    # Get current symbol\n",
    "\tcell = grid[r][c]\n",
    "\n",
    "    # Yield allows it to be more memory efficient and calculate each possible path 1 by 1\n",
    "\n",
    "    # If the path ignores slopes or is a '.' then take into account all 4 directions\n",
    "\tif ignore_slopes or cell == '.':\n",
    "\t\tfor r, c in ((r + 1, c), (r - 1, c), (r, c + 1), (r, c - 1)):\n",
    "\t\t\tif grid[r][c] != '#':\n",
    "\t\t\t\tyield r, c\n",
    "    # Else only take into account one direction depending on the symbol\n",
    "\telif cell == 'v': yield (r + 1, c)\n",
    "\telif cell == '^': yield (r - 1, c)\n",
    "\telif cell == '>': yield (r, c + 1)\n",
    "\telif cell == '<': yield (r, c - 1)"
   ]
  },
  {
   "cell_type": "code",
   "execution_count": 82,
   "id": "20471845-b135-40d7-82a2-48b8666d5cab",
   "metadata": {},
   "outputs": [],
   "source": [
    "def num_neighbors(grid, r, c, ignore_slopes):\n",
    "    # Return the total amount of possible moves\n",
    "\tif ignore_slopes or grid[r][c] == '.':\n",
    "\t\treturn sum(grid[r][c] != '#' for r, c in ((r + 1, c), (r - 1, c), (r, c + 1), (r, c - 1)))\n",
    "\treturn 1"
   ]
  },
  {
   "cell_type": "code",
   "execution_count": 23,
   "id": "501c781c-24d7-42ed-bdbe-15925546bc43",
   "metadata": {},
   "outputs": [],
   "source": [
    "import sys\n",
    "sys.setrecursionlimit(100000)"
   ]
  },
  {
   "cell_type": "code",
   "execution_count": null,
   "id": "e06a02b5-51d8-4092-9c65-5ff169420ac9",
   "metadata": {},
   "outputs": [],
   "source": []
  }
 ],
 "metadata": {
  "kernelspec": {
   "display_name": "Python 3 (ipykernel)",
   "language": "python",
   "name": "python3"
  },
  "language_info": {
   "codemirror_mode": {
    "name": "ipython",
    "version": 3
   },
   "file_extension": ".py",
   "mimetype": "text/x-python",
   "name": "python",
   "nbconvert_exporter": "python",
   "pygments_lexer": "ipython3",
   "version": "3.10.12"
  }
 },
 "nbformat": 4,
 "nbformat_minor": 5
}
