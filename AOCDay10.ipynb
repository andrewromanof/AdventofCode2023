{
 "cells": [
  {
   "cell_type": "markdown",
   "id": "386b7abd-a4a9-481a-93b9-c3dfb68f75fd",
   "metadata": {},
   "source": [
    "# Advent of Code Day 10\n",
    "#### Problem in full can be found here: https://adventofcode.com/2023/day/10"
   ]
  },
  {
   "cell_type": "code",
   "execution_count": 19,
   "id": "506c7fab-0ff7-4e2c-88d1-e057baf8a8e2",
   "metadata": {},
   "outputs": [
    {
     "name": "stdout",
     "output_type": "stream",
     "text": [
      "6815.0\n",
      "7083.0\n",
      "269\n"
     ]
    }
   ],
   "source": [
    "# Given an input file that contains a starting point, find a path from the starting point that has a continuous loop\n",
    "file = open(\"inputday10.txt\")\n",
    "\n",
    "map = []\n",
    "for line in file:\n",
    "    line = line.strip()\n",
    "    map.append(list(line))\n",
    "\n",
    "file.close()\n",
    "\n",
    "i, j = getIndex(map)\n",
    "\n",
    "# part 1\n",
    "# Return the furthest point from the starting point (len(loop) / 2)\n",
    "visited = set()\n",
    "x_coords = []\n",
    "y_coords = []\n",
    "result = findLoop2(map, i, j, visited)\n",
    "print(len(visited)/2)\n",
    "\n",
    "#part 2\n",
    "# Using shoelace formula to calculate the area of the loop then picks theorem to calculate the number of lattice points\n",
    "area = calculate_polygon_area(x_coords, y_coords)\n",
    "print(area)\n",
    "print(picks(area, len(visited)))"
   ]
  },
  {
   "cell_type": "code",
   "execution_count": 2,
   "id": "fb0673ea-7497-4318-9242-ac2f10962605",
   "metadata": {},
   "outputs": [],
   "source": [
    "def getIndex(map):\n",
    "    for i in range(len(map)):\n",
    "        for j in range(len(map[i])):\n",
    "            if map[i][j] == 'S':\n",
    "                return i, j"
   ]
  },
  {
   "cell_type": "code",
   "execution_count": 18,
   "id": "ca2e9967-6989-451b-982d-e601b0561d03",
   "metadata": {},
   "outputs": [],
   "source": [
    "# Uses a stack\n",
    "def findLoop2(map, start_i, start_j, visited):\n",
    "    # Initial stack\n",
    "    stack = [[start_i, start_j, map[start_i][start_j]]]\n",
    "\n",
    "    # While stack is not empty\n",
    "    while stack:\n",
    "        # Pop from the stack\n",
    "        i, j, symbol = stack.pop()\n",
    "\n",
    "        # If the location was already visited, then continue\n",
    "        if (i, j) in visited:\n",
    "            continue\n",
    "\n",
    "        # Add the i,j to visited\n",
    "        visited.add((i, j))\n",
    "        x_coords.append(j)  # Collect x-coordinate\n",
    "        y_coords.append(i)  # Collect y-coordinate\n",
    "\n",
    "        # If we found the end of the loop, then return True\n",
    "        if symbol == 'S' and len(visited) > 1:\n",
    "            return True\n",
    "\n",
    "        # Directions array\n",
    "        directions = []\n",
    "\n",
    "        # Add to the directions array based on the symbol and it's rules\n",
    "        if symbol == '|':\n",
    "            directions = [[1, 0], [-1, 0]]\n",
    "        elif symbol == '-':\n",
    "            directions = [[0, 1], [0, -1]]\n",
    "        elif symbol == 'L':\n",
    "            directions = [[-1, 0], [0, 1]]\n",
    "        elif symbol == 'J':\n",
    "            directions = [[-1, 0], [0, -1]]\n",
    "        elif symbol == '7':\n",
    "            directions = [[1, 0], [0, -1]]\n",
    "        elif symbol == 'F':\n",
    "            directions = [[1, 0], [0, 1]]\n",
    "        else:\n",
    "            directions = [[1, 0], [0, 1], [-1, 0], [0, -1]]\n",
    "\n",
    "        # For each possible direction\n",
    "        for di, dj in directions:\n",
    "            # Update i and j\n",
    "            ni, nj = i + di, j + dj\n",
    "\n",
    "            # Make sure that the new i and j are within the bounds\n",
    "            if 0 <= ni < len(map) and 0 <= nj < len(map[0]):\n",
    "                # Find the next symbol\n",
    "                next_symbol = map[ni][nj]\n",
    "\n",
    "                # If the next symbol is valid and the new coordinates haven't been visited, add to stack\n",
    "                if next_symbol in ['S', '|', 'L', 'J', '-', '7', 'F'] and (ni, nj) not in visited:\n",
    "                    stack.append([ni, nj, next_symbol])\n",
    "                    \n",
    "    # If no path to S is found, return false\n",
    "    return False"
   ]
  },
  {
   "cell_type": "code",
   "execution_count": 4,
   "id": "c5889962-12dd-4743-a30a-a43e87d6f692",
   "metadata": {},
   "outputs": [],
   "source": [
    "def calculate_polygon_area(x_coords, y_coords):\n",
    "    # Shoelace formula\n",
    "    n = len(x_coords)\n",
    "    area = 0.5 * abs(sum(x_coords[i] * y_coords[(i + 1) % n] - x_coords[(i + 1) % n] * y_coords[i] for i in range(n)))\n",
    "    return area"
   ]
  },
  {
   "cell_type": "code",
   "execution_count": 5,
   "id": "c91c480a-028a-42b6-9e5a-0169c4c4fbc7",
   "metadata": {},
   "outputs": [],
   "source": [
    "def picks(area, loop_size):\n",
    "    # Pick's theorem\n",
    "    # A = I + B/2 -1\n",
    "    # Solve for I\n",
    "    return int(area - 0.5 * loop_size + 1)"
   ]
  },
  {
   "cell_type": "code",
   "execution_count": null,
   "id": "93759401-7cd5-4dab-8d87-83415b54b4c1",
   "metadata": {},
   "outputs": [],
   "source": [
    "# Inefficient method, brute-force probably works but runtime too long\n",
    "def findLoop(map, i, j, symbol, path):\n",
    "    path.append([i, j])\n",
    "    if symbol == '|':\n",
    "        if [i+1, j] not in path and map[i+1][j] in ['S', '|', 'L', 'J'] and findLoop(map, i+1, j, map[i+1][j], path):\n",
    "            return True\n",
    "        elif [i-1, j] not in path and map[i-1][j] in ['S', '|', '7', 'F']and findLoop(map, i-1, j, map[i-1][j], path): \n",
    "            return True\n",
    "    elif symbol == '-':\n",
    "        if [i, j+1] not in path and map[i][j+1] in ['S', '-', 'J', '7'] and findLoop(map, i, j+1, map[i][j+1], path):\n",
    "            return True\n",
    "        elif [i, j-1] not in path and map[i][j-1] in ['S', '-', 'L', 'F'] and findLoop(map, i, j-1, map[i][j-1], path): \n",
    "            return True\n",
    "    elif symbol == 'L':\n",
    "        if [i-1, j] not in path and map[i-1][j] in ['S', '|', '7', 'F'] and findLoop(map, i-1, j, map[i-1][j], path):\n",
    "            return True\n",
    "        elif [1, j+1] not in path and map[i][j+1] in ['S', '-', '7', 'J'] and findLoop(map, i, j+1, map[i][j+1], path): \n",
    "            return True\n",
    "    elif symbol == 'J':\n",
    "        if [i-1, j] not in path and map[i-1][j] in ['S', '|', '7', 'F'] and findLoop(map, i-1, j, map[i-1][j], path):\n",
    "            return True\n",
    "        elif [1, j-1] not in path and map[i][j-1] in ['S', '-', 'F', 'L'] and findLoop(map, i, j-1, map[i][j-1], path): \n",
    "            return True\n",
    "    elif symbol == '7':\n",
    "        if [i+1, j] not in path and map[i+1][j] in ['S', '|', 'L', 'J'] and findLoop(map, i+1, j, map[i+1][j], path):\n",
    "            return True\n",
    "        elif [1, j-1] not in path and map[i][j-1] in ['S', '-', 'F', 'L'] and findLoop(map, i, j-1, map[i][j-1], path): \n",
    "            return True\n",
    "    elif symbol == 'F':\n",
    "        if [i+1, j] not in path and map[i+1][j] in ['S', '|', 'L', 'J'] and findLoop(map, i+1, j, map[i+1][j], path):\n",
    "            return True\n",
    "        elif [1, j+1] not in path and map[i][j+1] in ['S', '-', '7', 'J'] and findLoop(map, i, j+1, map[i][j+1], path): \n",
    "            return True\n",
    "    elif symbol == 'S':\n",
    "        return True\n",
    "        \n",
    "    return False"
   ]
  },
  {
   "cell_type": "code",
   "execution_count": null,
   "id": "14f1f84f-659c-459b-825e-6a4dd11abd1f",
   "metadata": {},
   "outputs": [],
   "source": []
  }
 ],
 "metadata": {
  "kernelspec": {
   "display_name": "Python 3 (ipykernel)",
   "language": "python",
   "name": "python3"
  },
  "language_info": {
   "codemirror_mode": {
    "name": "ipython",
    "version": 3
   },
   "file_extension": ".py",
   "mimetype": "text/x-python",
   "name": "python",
   "nbconvert_exporter": "python",
   "pygments_lexer": "ipython3",
   "version": "3.10.12"
  }
 },
 "nbformat": 4,
 "nbformat_minor": 5
}
