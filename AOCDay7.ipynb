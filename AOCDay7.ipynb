{
 "cells": [
  {
   "cell_type": "markdown",
   "id": "081d8765-40f9-460c-aa9b-f2bc4f796d26",
   "metadata": {},
   "source": [
    "# Advent of Code Day 7\n",
    "#### Problem in full can be found here: https://adventofcode.com/2023/day/7"
   ]
  },
  {
   "cell_type": "code",
   "execution_count": 51,
   "id": "506c7fab-0ff7-4e2c-88d1-e057baf8a8e2",
   "metadata": {},
   "outputs": [
    {
     "name": "stdout",
     "output_type": "stream",
     "text": [
      "248113761\n",
      "246285222\n"
     ]
    }
   ],
   "source": [
    "file = open(\"inputday7.txt\")\n",
    "\n",
    "bids = {}\n",
    "\n",
    "for line in file:\n",
    "    card = \"\"\n",
    "    bid = \"\"\n",
    "    input = 0\n",
    "    while line[input] != \" \":\n",
    "        card += line[input]\n",
    "        input += 1\n",
    "    input += 1\n",
    "    while input < len(line):\n",
    "        bid += line[input]\n",
    "        input += 1\n",
    "    bids[card] = int(bid)\n",
    "\n",
    "file.close()\n",
    "\n",
    "# part 1\n",
    "# Given cards and bids in an input file, rank the cards and sum up all their bid * their rank where rank 1 is the lowest ranked card\n",
    "cardTypes = [\"A\", \"K\", \"Q\", \"J\", \"T\", \"9\", \"8\", \"7\", \"6\", \"5\", \"4\", \"3\", \"2\"]\n",
    "handType = [ [], [], [], [], [], [], [] ]\n",
    "\n",
    "# Append to a 2D array to organize the cards into the 7 types i.e. full house, three pair, etc\n",
    "for key in bids:\n",
    "    index = returnIndex(key)\n",
    "    handType[index].append(key)\n",
    "\n",
    "rank = 1\n",
    "sum = 0\n",
    "for type in handType:\n",
    "    # Sort them based on the card types then reverse the list to get the worst card ranked 1\n",
    "    sorted_list = sorted(type, key=custom_sort_key)\n",
    "    sorted_list.reverse()\n",
    "    # Calculate the sum\n",
    "    for card in sorted_list:\n",
    "        sum += (bids[card] * rank)\n",
    "        rank += 1\n",
    "\n",
    "print(sum)\n",
    "\n",
    "# part 2\n",
    "# Same as part 1 but now J is the lowest ranked card type and it can morph into anything to make the deck the strongest\n",
    "cardTypes2 = [\"A\", \"K\", \"Q\", \"T\", \"9\", \"8\", \"7\", \"6\", \"5\", \"4\", \"3\", \"2\", \"J\"]\n",
    "handType2 = [ [], [], [], [], [], [], [] ]\n",
    "\n",
    "# Append to a 2D array to organize the cards into the 7 types i.e. full house, three pair, etc\n",
    "for key in bids:\n",
    "    index = returnIndex2(key)\n",
    "    handType2[index].append(key)\n",
    "\n",
    "rank = 1\n",
    "sum2 = 0\n",
    "for type in handType2:\n",
    "    # Sort them based on the card types then reverse the list to get the worst card ranked 1\n",
    "    sorted_list = sorted(type, key=custom_sort_key2)\n",
    "    sorted_list.reverse()\n",
    "    # Calculate the sum\n",
    "    for card in sorted_list:\n",
    "        sum2 += (bids[card] * rank)\n",
    "        rank += 1\n",
    "\n",
    "print(sum2)"
   ]
  },
  {
   "cell_type": "code",
   "execution_count": 49,
   "id": "2b139919-386d-41a6-9c35-cdc5e6d96dd1",
   "metadata": {},
   "outputs": [],
   "source": [
    "def returnIndex(card):\n",
    "    # Get all the counts of the characters in the card\n",
    "    char_count = {}\n",
    "    for char in card:\n",
    "        char_count[char] = char_count.get(char, 0) + 1\n",
    "\n",
    "    # Get the max key and the max value\n",
    "    max_key = max(char_count, key=lambda k: char_count[k])\n",
    "    max_value = char_count[max_key]\n",
    "\n",
    "    # Return the index that the card should be placed in the 2D array\n",
    "    if len(char_count) == 1:\n",
    "        return 6\n",
    "    elif len(char_count) == 2 and max_value == 4:\n",
    "        return 5\n",
    "    elif len(char_count) == 2 and max_value == 3:\n",
    "        return 4\n",
    "    elif len(char_count) == 3 and max_value == 3:\n",
    "        return 3\n",
    "    elif len(char_count) == 3 and max_value == 2:\n",
    "        return 2\n",
    "    elif len(char_count) == 4:\n",
    "        return 1\n",
    "    elif len(char_count) == 5:\n",
    "        return 0\n",
    "        "
   ]
  },
  {
   "cell_type": "code",
   "execution_count": 24,
   "id": "9420751e-f14f-4eb9-a6cf-2b2c7c17a163",
   "metadata": {},
   "outputs": [],
   "source": [
    "def custom_sort_key(s):\n",
    "    return [cardTypes.index(c) for c in s if c in cardTypes]"
   ]
  },
  {
   "cell_type": "code",
   "execution_count": 48,
   "id": "d76dddd4-5c02-4343-9bc3-a1a28cc7f915",
   "metadata": {},
   "outputs": [],
   "source": [
    "def returnIndex2(card):\n",
    "    char_count = {}\n",
    "    for char in card:\n",
    "        char_count[char] = char_count.get(char, 0) + 1\n",
    "\n",
    "    # Get the count of Js\n",
    "    jCount = char_count.get(\"J\", 0)\n",
    "    length = len(char_count)\n",
    "    # Edge case if the card is \"JJJJJ\"\n",
    "    if jCount == 5:\n",
    "        return 6\n",
    "    # Delete \"J\" from the dictionary if it exists\n",
    "    if \"J\" in char_count:\n",
    "        del char_count[\"J\"]\n",
    "    # Calculate the max key that is not J and the max value with the count of J\n",
    "    max_key = max(char_count, key=lambda k: char_count[k])\n",
    "    max_value = char_count[max_key] + jCount\n",
    "        \n",
    "    if max_value == 5:\n",
    "        return 6\n",
    "    elif (length == 2 and max_value == 4 and jCount == 0) or (length == 3 and max_value == 4 and jCount > 0):\n",
    "        return 5\n",
    "    elif (length == 2 and max_value == 3 and jCount == 0) or (length == 3 and max_value == 3 and jCount > 0):\n",
    "        return 4\n",
    "    elif (length == 3 and max_value == 3 and jCount == 0) or (length == 4 and max_value == 3 and jCount > 0):\n",
    "        return 3\n",
    "    elif (length == 3 and max_value == 2 and jCount == 0) or (length == 4 and max_value == 2 and jCount > 0):\n",
    "        return 2\n",
    "    elif (length == 4 and jCount == 0) or (length == 5 and jCount > 0):\n",
    "        return 1\n",
    "    elif max_value == 1:\n",
    "        return 0"
   ]
  },
  {
   "cell_type": "code",
   "execution_count": 40,
   "id": "a13c1920-9965-4be0-9148-e38c01927a86",
   "metadata": {},
   "outputs": [],
   "source": [
    "def custom_sort_key2(s):\n",
    "    return [cardTypes2.index(c) for c in s if c in cardTypes2]"
   ]
  },
  {
   "cell_type": "code",
   "execution_count": null,
   "id": "e15fdeb9-2071-445b-9e16-4dfa6f5ddf1a",
   "metadata": {},
   "outputs": [],
   "source": []
  }
 ],
 "metadata": {
  "kernelspec": {
   "display_name": "Python 3 (ipykernel)",
   "language": "python",
   "name": "python3"
  },
  "language_info": {
   "codemirror_mode": {
    "name": "ipython",
    "version": 3
   },
   "file_extension": ".py",
   "mimetype": "text/x-python",
   "name": "python",
   "nbconvert_exporter": "python",
   "pygments_lexer": "ipython3",
   "version": "3.10.12"
  }
 },
 "nbformat": 4,
 "nbformat_minor": 5
}
