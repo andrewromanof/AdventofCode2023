{
 "cells": [
  {
   "cell_type": "markdown",
   "id": "386b7abd-a4a9-481a-93b9-c3dfb68f75fd",
   "metadata": {},
   "source": [
    "# Advent of Code Day 11\n",
    "#### Problem in full can be found here: https://adventofcode.com/2023/day/11"
   ]
  },
  {
   "cell_type": "code",
   "execution_count": 78,
   "id": "506c7fab-0ff7-4e2c-88d1-e057baf8a8e2",
   "metadata": {},
   "outputs": [
    {
     "name": "stdout",
     "output_type": "stream",
     "text": [
      "597714117556\n"
     ]
    }
   ],
   "source": [
    "# Given an input file full of '#' and '.' where # represents a galaxy and . is a space in between, update the map so\n",
    "# that when no row contains a galaxy, an extra row of space is added after it and when no column contains a galaxy, an\n",
    "# extra column of space is added after it then find the sum of the minimum distance between all galaxies on the updated\n",
    "# map\n",
    "file = open(\"inputday11.txt\")\n",
    "\n",
    "map = []\n",
    "galaxies = {}\n",
    "index, galaxy = 0, 0\n",
    "\n",
    "# Store the data from the input file in a 2D array\n",
    "for line in file:\n",
    "    line = line.strip()\n",
    "    mapLine = [char for char in line]\n",
    "    map.append(mapLine)\n",
    "\n",
    "file.close()\n",
    "\n",
    "# Find all the columns that do not have a galaxy\n",
    "columns = [index for index, column in enumerate(zip(*map)) if '#' not in column]\n",
    "\n",
    "# Loop through each row in the map\n",
    "for line in map:\n",
    "    # If the row contains a galaxy, then update the galaxy dictionary and galaxy counter\n",
    "    if containsGalaxy(line):\n",
    "        galaxies, galaxy = getGalaxies(line, index, columns, galaxies, galaxy)\n",
    "    # If there is no galaxy, add an extra 1 on the x coordinate and go to the next row\n",
    "    else:\n",
    "        # part 1\n",
    "        # T\n",
    "        # index += 1\n",
    "        # part 2\n",
    "        index += 999999\n",
    "    \n",
    "    index += 1\n",
    "\n",
    "# Find the sum of all the shortest path pairs using the difference in coordinates\n",
    "sum = 0\n",
    "for i in range(galaxy):\n",
    "    for j in range(i+1, galaxy):\n",
    "        sum += (abs(galaxies[j][0] - galaxies[i][0]) + abs(galaxies[j][1] - galaxies[i][1]))\n",
    "print(sum)"
   ]
  },
  {
   "cell_type": "code",
   "execution_count": 68,
   "id": "14f1f84f-659c-459b-825e-6a4dd11abd1f",
   "metadata": {},
   "outputs": [],
   "source": [
    "# Function returns if there is a galaxy on the row\n",
    "def containsGalaxy(line):\n",
    "    return '#' in line"
   ]
  },
  {
   "cell_type": "code",
   "execution_count": 77,
   "id": "8d72bf67-c5af-42e2-8228-220afaf80fe1",
   "metadata": {},
   "outputs": [],
   "source": [
    "# Function adds the galaxies to the dictionary and updates the galaxy counter\n",
    "def getGalaxies(line, index, columns, galaxies, galaxy):\n",
    "    j, index2 = 0, 0\n",
    "    while j < len(line):\n",
    "        # If there is no galaxy on this column, add an extra 1 on the y coordinate\n",
    "        if j in columns:\n",
    "            # part 1\n",
    "            # index2 += 1\n",
    "            # part 2\n",
    "            index2 += 999999\n",
    "            \n",
    "        # If galaxy found, add to dictionary and update counter\n",
    "        if line[j] == '#':\n",
    "            galaxies[galaxy] = [index, index2]\n",
    "            galaxy += 1\n",
    "            \n",
    "        j += 1\n",
    "        index2 += 1\n",
    "    # Return updated dictionary and counter\n",
    "    return galaxies, galaxy"
   ]
  },
  {
   "cell_type": "code",
   "execution_count": null,
   "id": "469bb8ae-d150-4a38-8be2-bd56ae5c6f07",
   "metadata": {},
   "outputs": [],
   "source": []
  }
 ],
 "metadata": {
  "kernelspec": {
   "display_name": "Python 3 (ipykernel)",
   "language": "python",
   "name": "python3"
  },
  "language_info": {
   "codemirror_mode": {
    "name": "ipython",
    "version": 3
   },
   "file_extension": ".py",
   "mimetype": "text/x-python",
   "name": "python",
   "nbconvert_exporter": "python",
   "pygments_lexer": "ipython3",
   "version": "3.10.12"
  }
 },
 "nbformat": 4,
 "nbformat_minor": 5
}
