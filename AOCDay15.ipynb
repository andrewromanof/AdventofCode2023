{
 "cells": [
  {
   "cell_type": "markdown",
   "id": "386b7abd-a4a9-481a-93b9-c3dfb68f75fd",
   "metadata": {},
   "source": [
    "# Advent of Code Day 15\n",
    "#### Problem in full can be found here: https://adventofcode.com/2023/day/15"
   ]
  },
  {
   "cell_type": "code",
   "execution_count": 26,
   "id": "506c7fab-0ff7-4e2c-88d1-e057baf8a8e2",
   "metadata": {},
   "outputs": [
    {
     "name": "stdout",
     "output_type": "stream",
     "text": [
      "522547\n",
      "229271\n"
     ]
    }
   ],
   "source": [
    "# Store the data input in an array\n",
    "file = open(\"inputday15.txt\")\n",
    "data = file.read().strip()\n",
    "elements = data.split(',')\n",
    "file.close()\n",
    "\n",
    "totalSum, totalSum2 = 0, 0\n",
    "hashmap = {}\n",
    "for element in elements:\n",
    "    # part 1\n",
    "    # Involves looping through each comma seperated value in the input file, converting each character into its ASCII code then\n",
    "    # following a hash instruction to figure out its sum and finding the total sum for each string\n",
    "    sum = 0\n",
    "    # Convert the string to its ascii value for each character\n",
    "    ascii_values = [ord(c) for c in element]\n",
    "    # Do the steps in the hash for the ascii values\n",
    "    for char in ascii_values:\n",
    "        sum += char\n",
    "        sum *= 17\n",
    "        sum = sum % 256\n",
    "    # Add up the sum\n",
    "    totalSum += sum\n",
    "\n",
    "    # part 2\n",
    "    # Involves looping through each comma seperated value in the input file, breaking each string down to the characters, '-' or '=' and\n",
    "    # a length if provided. For the string, it is the same as part 1, then if the next symbol is a '-', remove the string from\n",
    "    # the hashmap if it exists. if it is a '=' then you add the string to the hashmap along with the length. If the\n",
    "    # string is already in the hashmap, the existing length is replaced by the new found one. At the end,\n",
    "    # follow the hash instructions to find the total sum for everything left in the dictionary\n",
    "    input = \"\"\n",
    "    i = 0\n",
    "    sum = 0\n",
    "    num = 0\n",
    "    # Collect the characters of the string and do the steps for their ascii values and hash values\n",
    "    while element[i].isalpha():\n",
    "        input += element[i]\n",
    "        num += ord(element[i])\n",
    "        num *= 17\n",
    "        num = num % 256\n",
    "        i += 1\n",
    "    # If the element is '-' then remove the string from the hashmap by its hash value\n",
    "    if element[i] == '-':\n",
    "        # If the hash value exists in the hashmap\n",
    "        if num in hashmap:\n",
    "            # Loop through the array stored in the hashmap and reassign the values so that\n",
    "            # the values being reassigned isn't the input string we want to remove\n",
    "            hashmap[num] = [entry for entry in hashmap[num] if entry.get('string') != input]\n",
    "    # Else if the element is '=' then add the string to the array that corresponds with its hash value\n",
    "    else:\n",
    "        i += 1\n",
    "        length = \"\"\n",
    "        # Find the focal length\n",
    "        while i < len(element):\n",
    "            length += element[i]\n",
    "            i += 1\n",
    "        # If the hash value exists in the hashmap\n",
    "        if num in hashmap:\n",
    "            # Check to see if the string exists in the array\n",
    "            string_exists = any(entry.get('string') == input for entry in hashmap[num])\n",
    "            # If it exists, modify only the length of the string in place\n",
    "            if string_exists:\n",
    "                for entry in hashmap[num]:\n",
    "                    if entry.get('string') == input:\n",
    "                        entry['length'] = int(length)\n",
    "                        break\n",
    "            # If it doesn't exists, add the string and its length to the array\n",
    "            else:\n",
    "                hashmap[num].append({'string': input, 'length': int(length)})\n",
    "        # Else initialize the array for the hash value\n",
    "        else:\n",
    "            hashmap[num] = [{'string': input, 'length': int(length)}]\n",
    "\n",
    "# Use the given formula to find the total sum of all the hashmap items\n",
    "for map_index, entries in hashmap.items():\n",
    "    for array_index, entry in enumerate(entries):\n",
    "        totalSum2 += ((map_index + 1) * (array_index + 1) * entry['length'])\n",
    "\n",
    "# Print the answers\n",
    "print(totalSum)\n",
    "print(totalSum2)"
   ]
  },
  {
   "cell_type": "code",
   "execution_count": null,
   "id": "c1f724b7-cc90-44af-a64e-899b4855b909",
   "metadata": {},
   "outputs": [],
   "source": []
  }
 ],
 "metadata": {
  "kernelspec": {
   "display_name": "Python 3 (ipykernel)",
   "language": "python",
   "name": "python3"
  },
  "language_info": {
   "codemirror_mode": {
    "name": "ipython",
    "version": 3
   },
   "file_extension": ".py",
   "mimetype": "text/x-python",
   "name": "python",
   "nbconvert_exporter": "python",
   "pygments_lexer": "ipython3",
   "version": "3.10.12"
  }
 },
 "nbformat": 4,
 "nbformat_minor": 5
}
