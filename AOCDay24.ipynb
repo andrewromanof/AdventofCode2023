{
 "cells": [
  {
   "cell_type": "markdown",
   "id": "386b7abd-a4a9-481a-93b9-c3dfb68f75fd",
   "metadata": {},
   "source": [
    "# Advent of Code Day 24\n",
    "#### Problem in full can be found here: https://adventofcode.com/2023/day/24"
   ]
  },
  {
   "cell_type": "code",
   "execution_count": 81,
   "id": "506c7fab-0ff7-4e2c-88d1-e057baf8a8e2",
   "metadata": {},
   "outputs": [
    {
     "name": "stdout",
     "output_type": "stream",
     "text": [
      "17867\n",
      "557743507346379\n"
     ]
    }
   ],
   "source": [
    "# Given an input file where each line consists of 3 integers to represent x, y, z followed by an @\n",
    "# which follows another 3 integers to represent the slopes dx, dy, dz\n",
    "\n",
    "# Get the input from file and store in data array\n",
    "file = open(\"inputday24.txt\")\n",
    "data = []\n",
    "for line in file:\n",
    "    line = line.strip()\n",
    "    parts = line.split(\"@\")\n",
    "    position = parts[0].split(\",\")\n",
    "    velocity = parts[1].split(\",\")\n",
    "    data.append([position[0], position[1], position[2], velocity[0], velocity[1], velocity[2]])\n",
    "file.close()\n",
    "\n",
    "# Part 1\n",
    "# Given a bound (the intersection has to fall within this bound), using only the x and y from the input,\n",
    "# loop through each pair of lines and see if they intersect wiithin the the test bounds. Print the sum of\n",
    "# pairs that meet the criteria\n",
    "\n",
    "# Set test bounds\n",
    "testMin = 200000000000000\n",
    "testMax = 400000000000000\n",
    "\n",
    "# Loop through all pairs\n",
    "sum = 0\n",
    "for i in range(len(data)-1):\n",
    "    for j in range(i+1, len(data)):\n",
    "        # Find the intersection\n",
    "        x, y = findIntersection(data[i], data[j])\n",
    "        # If an intersection exists and is within the test bounds, add 1 to sum\n",
    "        if x and y and testMin <= x <= testMax and testMin <= y <= testMax:\n",
    "            sum += 1\n",
    "print(sum)\n",
    "\n",
    "# Part 2\n",
    "# Find a point on the map that will intersect with every line in the data and print the sum of x, y, z of\n",
    "# that point\n",
    "print(findPosition(data))"
   ]
  },
  {
   "cell_type": "code",
   "execution_count": 78,
   "id": "814f2696-21df-4fd2-aebc-84f76397f806",
   "metadata": {},
   "outputs": [],
   "source": [
    "# A functino that finds the intersection by calculating the slopes of both lines\n",
    "def findIntersection(hailstone1, hailstone2):\n",
    "    # Set the variables required\n",
    "    x1, x2 = int(hailstone1[0]), int(hailstone2[0])\n",
    "    y1, y2 = int(hailstone1[1]), int(hailstone2[1])\n",
    "    dx1, dx2 = int(hailstone1[3]), int(hailstone2[3])\n",
    "    dy1, dy2 = int(hailstone1[4]), int(hailstone2[4])\n",
    "\n",
    "    # Calculate the slope\n",
    "    slope1 = dy1 / dx1\n",
    "    slope2 = dy2 / dx2\n",
    "    # IF slopes are equal, return none because it means its parallel\n",
    "    if slope1 == slope2:\n",
    "        return None, None\n",
    "\n",
    "    # Calculate intersection from y = mx + b\n",
    "    x = (y1 - y2 + slope2 * x2 - slope1 * x1) / (slope2 - slope1)\n",
    "    y = slope1 * (x - x1) + y1\n",
    "\n",
    "    # verify that the intersection is possible to get to with the slope (not in the past)\n",
    "    if (np.sign(x - x1) != np.sign(dx1) or \n",
    "        np.sign(x - x2) != np.sign(dx2) or \n",
    "        np.sign(y - y1) != np.sign(dy1) or \n",
    "        np.sign(y - y2) != np.sign(dy2)):\n",
    "        return None, None\n",
    "\n",
    "    # Return the intersection\n",
    "    return (x,y)"
   ]
  },
  {
   "cell_type": "code",
   "execution_count": 79,
   "id": "40b97c8f-c194-4362-8b1a-f6e35cd55955",
   "metadata": {},
   "outputs": [],
   "source": [
    "from z3 import *\n",
    "\n",
    "def findPosition(data):\n",
    "    # Create Z3 variables\n",
    "    x, y, z, dx, dy, dz = map(z3.Int, [\"x\", \"y\", \"z\", \"dx\", \"dy\", \"dz\"])\n",
    "\n",
    "    # Create Z3 solver\n",
    "    solver = Solver()\n",
    "\n",
    "    # Loop through each point in the data and add the line to the solver\n",
    "    for i in range(len(data)):\n",
    "        x1 = int(data[i][0])\n",
    "        y1 = int(data[i][1])\n",
    "        z1 = int(data[i][2])\n",
    "        dx1 = int(data[i][3])\n",
    "        dy1 = int(data[i][4])\n",
    "        dz1 = int(data[i][5])\n",
    "        # t = a variable to distinct between the different lines\n",
    "        t = z3.Int(f\"t{i}\")\n",
    "        solver.add(x + dx*t == x1+dx1*t)\n",
    "        solver.add(y + dy*t == y1+dy1*t)\n",
    "        solver.add(z + dz*t == z1+dz1*t)\n",
    "\n",
    "    # Check for a solution and return x + y + z if there is one, 0 otherwise\n",
    "    if solver.check() == sat:\n",
    "        return solver.model().eval(x+y+z)\n",
    "    else:\n",
    "        return 0"
   ]
  },
  {
   "cell_type": "code",
   "execution_count": null,
   "id": "2b9b6357-38cc-4f30-afd6-086c59fdad7e",
   "metadata": {},
   "outputs": [],
   "source": []
  }
 ],
 "metadata": {
  "kernelspec": {
   "display_name": "Python 3 (ipykernel)",
   "language": "python",
   "name": "python3"
  },
  "language_info": {
   "codemirror_mode": {
    "name": "ipython",
    "version": 3
   },
   "file_extension": ".py",
   "mimetype": "text/x-python",
   "name": "python",
   "nbconvert_exporter": "python",
   "pygments_lexer": "ipython3",
   "version": "3.10.12"
  }
 },
 "nbformat": 4,
 "nbformat_minor": 5
}
