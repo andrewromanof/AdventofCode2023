{
 "cells": [
  {
   "cell_type": "markdown",
   "id": "c952ea59-b619-4137-a376-01a22f2cc3a1",
   "metadata": {},
   "source": [
    "# Advent of Code Day 6\n",
    "#### Problem in full can be found here: https://adventofcode.com/2023/day/6"
   ]
  },
  {
   "cell_type": "code",
   "execution_count": 40,
   "id": "506c7fab-0ff7-4e2c-88d1-e057baf8a8e2",
   "metadata": {},
   "outputs": [
    {
     "name": "stdout",
     "output_type": "stream",
     "text": [
      "345015\n",
      "42588603\n"
     ]
    }
   ],
   "source": [
    "# part 1\n",
    "# Open the file has a bunch of distances and times and there is a toy boat that moves at a constant speed for how long you press a button, every \n",
    "# second the button is held, the boat will move 1 mm/s but you're holding it during the time so if you hold for 3 seconds and the time is 7, it only\n",
    "# moves for 4 seconds. The first part is to loop through the distances and times and find how many ways there is to beat that then multiply all the\n",
    "# ways together for each pair of distance + time\n",
    "file = open(\"inputday6.txt\")\n",
    "\n",
    "# Get the input from the file in a 2D array\n",
    "data = []\n",
    "for line in file:\n",
    "    dataLine = []\n",
    "    index = 12\n",
    "    num = \"\"\n",
    "    while index < len(line):\n",
    "        if line[index].isnumeric():\n",
    "            num += line[index]\n",
    "        elif num != \"\":\n",
    "            dataLine.append(int(num))\n",
    "            num = \"\"\n",
    "        index += 1\n",
    "    data.append(dataLine)\n",
    "\n",
    "file.close()\n",
    "\n",
    "ways = 1\n",
    "for i in range(len(data[0])):\n",
    "    ways *= calculateWays(data[0][i], data[1][i])\n",
    "\n",
    "print(ways)\n",
    "\n",
    "# part 2\n",
    "# The second part is to combine all pairs from part 1 into a single one then calculate that\n",
    "data2 = []\n",
    "for i in range(len(data)):\n",
    "    num = \"\"\n",
    "    for j in range(len(data[i])):\n",
    "        num += str(data[i][j])\n",
    "    data2.append(int(num))\n",
    "ways2 = calculateWays(data2[0], data2[1])\n",
    "\n",
    "print(ways2)"
   ]
  },
  {
   "cell_type": "code",
   "execution_count": 36,
   "id": "2b139919-386d-41a6-9c35-cdc5e6d96dd1",
   "metadata": {},
   "outputs": [],
   "source": [
    "def calculateWays(time, distance):\n",
    "    # Loop through until found the minimum time required to then use that time in the below formula since it is mirrored to calculate\n",
    "    # the amount of ways\n",
    "    for i in range(time+1):\n",
    "        if (time-i)*i > distance:\n",
    "            index = i\n",
    "            break\n",
    "    ways = time - (index * 2) + 1\n",
    "    return ways"
   ]
  },
  {
   "cell_type": "code",
   "execution_count": null,
   "id": "3250d2ec-2242-40b9-bed8-a069af1382fc",
   "metadata": {},
   "outputs": [],
   "source": []
  }
 ],
 "metadata": {
  "kernelspec": {
   "display_name": "Python 3 (ipykernel)",
   "language": "python",
   "name": "python3"
  },
  "language_info": {
   "codemirror_mode": {
    "name": "ipython",
    "version": 3
   },
   "file_extension": ".py",
   "mimetype": "text/x-python",
   "name": "python",
   "nbconvert_exporter": "python",
   "pygments_lexer": "ipython3",
   "version": "3.10.12"
  }
 },
 "nbformat": 4,
 "nbformat_minor": 5
}
