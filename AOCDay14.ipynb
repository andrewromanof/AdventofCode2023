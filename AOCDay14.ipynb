{
 "cells": [
  {
   "cell_type": "markdown",
   "id": "386b7abd-a4a9-481a-93b9-c3dfb68f75fd",
   "metadata": {},
   "source": [
    "# Advent of Code Day 14\n",
    "#### Problem in full can be found here: https://adventofcode.com/2023/day/14"
   ]
  },
  {
   "cell_type": "code",
   "execution_count": 139,
   "id": "506c7fab-0ff7-4e2c-88d1-e057baf8a8e2",
   "metadata": {},
   "outputs": [
    {
     "name": "stdout",
     "output_type": "stream",
     "text": [
      "110779\n",
      "86069\n"
     ]
    }
   ],
   "source": [
    "# In an input file with 'O', '#', '.' where 'O' is a boulder, '#' is a cube-shaped rock, '.' is a empty space, figure out the sum\n",
    "# of all the boulder's new locations after the map gets tilted which causes the boulders to roll North and the rocks to stay still\n",
    "# (a boulder can't roll over a rock)\n",
    "import numpy as np\n",
    "\n",
    "# Gather the input from file and store in 2D array\n",
    "file = open(\"inputday14.txt\")\n",
    "map = []\n",
    "for line in file:\n",
    "    line = line.strip()\n",
    "    map.append(list(line))\n",
    "file.close()\n",
    "\n",
    "# Take the transpose of the map then push the boulders North\n",
    "map = transposeMap(map, \"N\")\n",
    "\n",
    "# Part 1\n",
    "# Calculate the load for each row\n",
    "sum = 0\n",
    "for row in map:\n",
    "    sum += calculateLoad(row)\n",
    "print(sum)\n",
    "\n",
    "# Part 2 involves cycling and 1 cycle shifts everything North -> West -> South -> East so find the sum of the new locations after\n",
    "# 1000000000 cycles\n",
    "\n",
    "# Finish the current cycle\n",
    "map = transposeMap(map, \"W\")\n",
    "map = transposeMap(map, \"S\")\n",
    "map = transposeMap(map, \"E\")\n",
    "\n",
    "# Figure out the cycle pattern\n",
    "cycles = []\n",
    "# Loop until the same map is found in the cycles\n",
    "while map not in cycles:\n",
    "    # Add the current finished map cycle to the list of cycles\n",
    "    cycles.append(map)\n",
    "    # Run another set of cycles\n",
    "    map = transposeMap(map, \"N\")\n",
    "    map = transposeMap(map, \"W\")\n",
    "    map = transposeMap(map, \"S\")\n",
    "    map = transposeMap(map, \"E\")\n",
    "\n",
    "# Calculate the loop length by taking the length of the amount of cycles gone through - the first occurrence of the \n",
    "# current map as this is now our second occurrence\n",
    "loop_length = len(cycles) - cycles.index(map)\n",
    "# Take out all the elements fonud in the cycle that aren't part of the loop \n",
    "not_in_loop = cycles.index(map)\n",
    "# Find what iteration of the cycle we'll be on at the 1000000000th mark\n",
    "cycles_left = (1000000000 - not_in_loop) % loop_length\n",
    "\n",
    "# Complete the cycles necessary\n",
    "for i in range(cycles_left - 1):\n",
    "    map = transposeMap(map, \"N\")\n",
    "    map = transposeMap(map, \"W\")\n",
    "    map = transposeMap(map, \"S\")\n",
    "    map = transposeMap(map, \"E\")\n",
    "\n",
    "# Convert the map back to it's transpose since we want it in a row format\n",
    "convertedMap = np.array(map)\n",
    "map = convertedMap.T.tolist()\n",
    "# Calculate the load for each row\n",
    "sum = 0\n",
    "for row in map:\n",
    "    sum += calculateLoad(row)\n",
    "print(sum)"
   ]
  },
  {
   "cell_type": "code",
   "execution_count": 85,
   "id": "3340473e-e0cc-487c-b107-ce2a1abe7385",
   "metadata": {},
   "outputs": [],
   "source": [
    "# Function that calculates the load of a given row\n",
    "def calculateLoad(row):\n",
    "    sum = 0\n",
    "    length = len(row)\n",
    "    \n",
    "    for i in range(length):\n",
    "        # If a boulder\n",
    "        if row[i] == 'O':\n",
    "            sum += (length - i)\n",
    "\n",
    "    # Return the sum\n",
    "    return sum"
   ]
  },
  {
   "cell_type": "code",
   "execution_count": 132,
   "id": "816dd6d1-3f83-41f6-8bd8-f37dc1e35c2c",
   "metadata": {},
   "outputs": [],
   "source": [
    "# A function that shifts the boulders in a given row in the given direction\n",
    "def shiftRow(row, direction):\n",
    "    length = len(row)\n",
    "    if direction == \"N\" or direction == \"W\":\n",
    "        rowOrder = range(length)\n",
    "    else:\n",
    "        rowOrder = range(length-1, -1, -1)\n",
    "\n",
    "    for i in rowOrder:\n",
    "        # If a boulder\n",
    "        if row[i] == 'O':\n",
    "            newIndex = i\n",
    "            \n",
    "            # Roll the boulder as far as it can go\n",
    "            while newIndex > 0 and row[newIndex-1] == '.' and rowOrder == range(length):\n",
    "                newIndex -= 1\n",
    "            while newIndex < length-1 and row[newIndex+1] == '.' and rowOrder == range(length-1, -1, -1):\n",
    "                newIndex += 1\n",
    "\n",
    "            # Update the boulders location\n",
    "            row[i] = '.'\n",
    "            row[newIndex] = 'O'\n",
    "\n",
    "    # Return the row\n",
    "    return row"
   ]
  },
  {
   "cell_type": "code",
   "execution_count": 134,
   "id": "cf5d2618-71ea-4f60-a209-025d9ef7edc5",
   "metadata": {},
   "outputs": [],
   "source": [
    "# A function that transposes the map then updates the boulders to be pushed in the given direction\n",
    "def transposeMap(map, direction):\n",
    "    # Convert the map into a numpy array\n",
    "    convertedMap = np.array(map)\n",
    "    # Take the transpose then convert back to a list\n",
    "    map = convertedMap.T.tolist()\n",
    "    # Update each row in the map to shift in the given direction\n",
    "    for i in range(len(map)):\n",
    "        map[i] = shiftRow(map[i], direction)\n",
    "    # Return the map\n",
    "    return map"
   ]
  },
  {
   "cell_type": "code",
   "execution_count": null,
   "id": "c1f724b7-cc90-44af-a64e-899b4855b909",
   "metadata": {},
   "outputs": [],
   "source": []
  }
 ],
 "metadata": {
  "kernelspec": {
   "display_name": "Python 3 (ipykernel)",
   "language": "python",
   "name": "python3"
  },
  "language_info": {
   "codemirror_mode": {
    "name": "ipython",
    "version": 3
   },
   "file_extension": ".py",
   "mimetype": "text/x-python",
   "name": "python",
   "nbconvert_exporter": "python",
   "pygments_lexer": "ipython3",
   "version": "3.10.12"
  }
 },
 "nbformat": 4,
 "nbformat_minor": 5
}
