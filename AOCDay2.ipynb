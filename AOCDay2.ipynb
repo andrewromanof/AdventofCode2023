{
 "cells": [
  {
   "cell_type": "markdown",
   "id": "b4685fde-a33b-45e2-8bde-f57620497220",
   "metadata": {},
   "source": [
    "# Advent of Code Day 2\n",
    "#### Problem in full can be found here: https://adventofcode.com/2023/day/2"
   ]
  },
  {
   "cell_type": "code",
   "execution_count": 33,
   "id": "86eb29c0-b008-4af4-a05e-9ff8d350943d",
   "metadata": {},
   "outputs": [
    {
     "name": "stdout",
     "output_type": "stream",
     "text": [
      "2348\n"
     ]
    }
   ],
   "source": [
    "# part 1\n",
    "# Problem: In the input there are multiple games played of a cube game where you pick out red, green, blue cubes from a bag\n",
    "# The input contains all the games played and each game has multiple rounds\n",
    "# The first part is to go through the input and see if each game is possible to be played matching the certain criteria and if\n",
    "# it is possible to play then to take their game id and add it to a sum\n",
    "file = open(\"inputday2.txt\")\n",
    "sum = 0\n",
    "\n",
    "for line in file:\n",
    "    # Replace all the spaces\n",
    "    line = line.replace(\" \", \"\")\n",
    "    id = \"\"\n",
    "    index = 4\n",
    "    # Find the game id\n",
    "    while line[index] != ':':\n",
    "        id += line[index]\n",
    "        index += 1\n",
    "    index += 1\n",
    "    # The criteria\n",
    "    cubes = {\"red\": 12, \"green\": 13, \"blue\": 14}\n",
    "    currentNum = \"\"\n",
    "    currentCube = \"\"\n",
    "    addToSum = True\n",
    "    \n",
    "    while index < len(line):\n",
    "        # If the current reading is a number\n",
    "        if line[index].isnumeric():\n",
    "            currentNum += line[index]\n",
    "        # If the current reading is at the end of a play on the same round\n",
    "        elif line[index] == ',':\n",
    "            cubes[currentCube] -= int(currentNum)\n",
    "            if cubes[currentCube] < 0:\n",
    "                addToSum = False\n",
    "                currentNum, currentCube = \"\", \"\"\n",
    "                break\n",
    "            currentNum, currentCube = \"\", \"\"\n",
    "        # If the current reading is at the end of a round\n",
    "        elif line[index] == ';':\n",
    "            cubes[currentCube] -= int(currentNum)\n",
    "            if cubes[currentCube] < 0:\n",
    "                addToSum = False\n",
    "                currentNum, currentCube = \"\", \"\"\n",
    "                break\n",
    "            currentNum, currentCube = \"\", \"\"\n",
    "            cubes = {\"red\": 12, \"green\": 13, \"blue\": 14}\n",
    "        # Else the reading si on the colour of the cube\n",
    "        else:\n",
    "            currentCube += line[index]\n",
    "        index += 1\n",
    "\n",
    "    # If it got to the end of the file without a problem but didn't get to check\n",
    "    # the last play because of out of bounds\n",
    "    if currentNum != \"\" and currentCube != \"\":\n",
    "        cubes[currentCube.strip()] -= int(currentNum)\n",
    "        if cubes[currentCube.strip()] < 0:\n",
    "            addToSum = False\n",
    "\n",
    "    # If the criteria is met\n",
    "    if addToSum:\n",
    "        sum += int(id)\n",
    "\n",
    "file.close()\n",
    "print(sum)"
   ]
  },
  {
   "cell_type": "code",
   "execution_count": 31,
   "id": "391cfdaf-b1c6-48e3-838c-2428711df2a6",
   "metadata": {},
   "outputs": [
    {
     "name": "stdout",
     "output_type": "stream",
     "text": [
      "76008\n"
     ]
    }
   ],
   "source": [
    "# part 2\n",
    "# The second part is to go through the input and find the least amount of cubes needed for each colour to be able to\n",
    "# make the game possible then to sum the power of the cubes\n",
    "file = open(\"inputday2.txt\")\n",
    "sum = 0\n",
    "\n",
    "for line in file:\n",
    "    line = line.replace(\" \", \"\")\n",
    "    id = \"\"\n",
    "    index = 4\n",
    "    while line[index] != ':':\n",
    "        id += line[index]\n",
    "        index += 1\n",
    "    index += 1\n",
    "    cubes = {\"red\": 0, \"green\": 0, \"blue\": 0}\n",
    "    currentNum = \"\"\n",
    "    currentCube = \"\"\n",
    "    \n",
    "    while index < len(line):\n",
    "        if line[index].isnumeric():\n",
    "            currentNum += line[index]\n",
    "        elif line[index] == ',' or line[index] == ';':\n",
    "            if cubes[currentCube] < int(currentNum):\n",
    "                cubes[currentCube] = int(currentNum)\n",
    "            currentNum, currentCube = \"\", \"\"\n",
    "        else:\n",
    "            currentCube += line[index]\n",
    "        index += 1\n",
    "\n",
    "    if currentNum != \"\" and currentCube != \"\":\n",
    "        if cubes[currentCube.strip().strip()] < int(currentNum):\n",
    "            cubes[currentCube.strip()] = int(currentNum)\n",
    "\n",
    "    sum += (cubes[\"red\"] * cubes[\"blue\"] * cubes[\"green\"])\n",
    "\n",
    "file.close()\n",
    "print(sum)"
   ]
  },
  {
   "cell_type": "code",
   "execution_count": null,
   "id": "0963e234-654b-4f99-b482-d69ade2247ed",
   "metadata": {},
   "outputs": [],
   "source": []
  }
 ],
 "metadata": {
  "kernelspec": {
   "display_name": "Python 3 (ipykernel)",
   "language": "python",
   "name": "python3"
  },
  "language_info": {
   "codemirror_mode": {
    "name": "ipython",
    "version": 3
   },
   "file_extension": ".py",
   "mimetype": "text/x-python",
   "name": "python",
   "nbconvert_exporter": "python",
   "pygments_lexer": "ipython3",
   "version": "3.10.12"
  }
 },
 "nbformat": 4,
 "nbformat_minor": 5
}
