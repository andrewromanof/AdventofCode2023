{
 "cells": [
  {
   "cell_type": "markdown",
   "id": "386b7abd-a4a9-481a-93b9-c3dfb68f75fd",
   "metadata": {},
   "source": [
    "# Advent of Code Day 13\n",
    "#### Problem in full can be found here: https://adventofcode.com/2023/day/13"
   ]
  },
  {
   "cell_type": "code",
   "execution_count": 121,
   "id": "506c7fab-0ff7-4e2c-88d1-e057baf8a8e2",
   "metadata": {},
   "outputs": [
    {
     "name": "stdout",
     "output_type": "stream",
     "text": [
      "40006\n",
      "28627\n"
     ]
    }
   ],
   "source": [
    "# Given input in symbols of '#' and '.', find the vertical and horizontal reflection lines if it exists then calculate a sum\n",
    "# where its the amount of columns to the left of the reflection line + the amount of rows above the reflection line times 100\n",
    "# Part 1 is finding the reflection lines with no errors\n",
    "# Part 2 is finding the reflection lines where there can be a max of 1 error (if you swap one thing, then it is a valid reflection)\n",
    "import numpy as np\n",
    "\n",
    "file = open(\"inputday13.txt\")\n",
    "\n",
    "map = []\n",
    "rowCount, colCount = 0, 0\n",
    "rowCount2, colCount2 = 0, 0\n",
    "\n",
    "for line in file:\n",
    "    line = line.strip()\n",
    "    if not line:\n",
    "        # Get the count of rows above the reflection line\n",
    "        rowCount += findRowReflection(map)\n",
    "        rowCount2 += findRowReflection(map, [1])\n",
    "        # Transpose the map so that the columns become rows\n",
    "        map = np.array(map)\n",
    "        map = map.transpose((1, 0))\n",
    "        map = map.tolist()\n",
    "        # Get the count of columns before the reflection line\n",
    "        colCount += findRowReflection(map)\n",
    "        colCount2 += findRowReflection(map, [1])\n",
    "        # Reset the map\n",
    "        map = []\n",
    "    else:\n",
    "        map.append(list(line))\n",
    "\n",
    "file.close()\n",
    "\n",
    "print(colCount + rowCount * 100)\n",
    "print(colCount2 + rowCount2 * 100)"
   ]
  },
  {
   "cell_type": "code",
   "execution_count": 115,
   "id": "7cba93c7-ccf9-407e-a7e1-7d5a8e3c42f8",
   "metadata": {},
   "outputs": [],
   "source": [
    "# Function that finds the reflection line of rows\n",
    "def findRowReflection(map, error=[0]):\n",
    "    rows, cols = len(map), len(map[0])\n",
    "\n",
    "    # For each row other than the last one since there will be nothing to compare it with\n",
    "    for i in range(rows-1):\n",
    "        # Calculate the reflection length which is the minimum distance of the potential reflection line to\n",
    "        # the first row or the last row\n",
    "        reflectionLength = min(rows-(i+2), i)\n",
    "        # If the reflection line is valid and the errors have been used up then return the index+1 since that will be\n",
    "        # how many rows are above the reflection line\n",
    "        if validRowIndex(map, i, reflectionLength, error) and error[0] == 0:\n",
    "            return i+1\n",
    "\n",
    "    # If no valid reflection line has been found, return 0\n",
    "    return 0"
   ]
  },
  {
   "cell_type": "code",
   "execution_count": 120,
   "id": "59567298-6cfd-403e-8361-e131b1368e20",
   "metadata": {},
   "outputs": [],
   "source": [
    "# Function evaluates if the reflection line is valid for the given row index\n",
    "def validRowIndex(map, index, reflectionLength, error=[0]):\n",
    "    i, j = index, index+1\n",
    "    # Variable that keeps track if a change to the error was made, in case a change is made\n",
    "    # but needs to be reverted\n",
    "    madeChange = False\n",
    "\n",
    "    # Verify the reflection line, start at the two indexes that are on the reflection line and expand outward\n",
    "    # reflectLength times\n",
    "    for k in range(0, reflectionLength+1):\n",
    "        # If the two rows are not the same\n",
    "        if map[i-k] != map[j+k]:\n",
    "            # Check if an error / change is allowed to be made\n",
    "            if error[0] > 0:\n",
    "                # Using numpy to convert the lists to numpy arrays\n",
    "                arr1 = np.array(map[i-k])\n",
    "                arr2 = np.array(map[j+k])\n",
    "                # Check how many differences are between the two arrays\n",
    "                differences = np.count_nonzero(arr1 != arr2)\n",
    "                # If the difference is the same or less than the amount of errors / changes allowed\n",
    "                # Then make a change and update the variables\n",
    "                if error[0] >= differences:\n",
    "                    madeChange = True\n",
    "                    error[0] -= differences\n",
    "                # If not, then return false as its not valid and revert any changes made\n",
    "                else:\n",
    "                    if madeChange:\n",
    "                        error[0] = 1\n",
    "                    return False\n",
    "            # If no error / change is allowed to be made, then return false as its not valid and revert any changes made\n",
    "            else:\n",
    "                if madeChange:\n",
    "                    error[0] = 1\n",
    "                return False\n",
    "\n",
    "    # If the code made it to here, then the reflection line is valid\n",
    "    return True"
   ]
  },
  {
   "cell_type": "code",
   "execution_count": null,
   "id": "69bf5108-5799-4379-9ec0-8dd0fc80fc00",
   "metadata": {},
   "outputs": [],
   "source": [
    "# If needed, use this to add a line at the end of the input file so that it also reads the last input\n",
    "with open('inputday13.txt', 'a') as file:\n",
    "    # Add a new line at the end\n",
    "    file.write(\"\\n\")"
   ]
  }
 ],
 "metadata": {
  "kernelspec": {
   "display_name": "Python 3 (ipykernel)",
   "language": "python",
   "name": "python3"
  },
  "language_info": {
   "codemirror_mode": {
    "name": "ipython",
    "version": 3
   },
   "file_extension": ".py",
   "mimetype": "text/x-python",
   "name": "python",
   "nbconvert_exporter": "python",
   "pygments_lexer": "ipython3",
   "version": "3.10.12"
  }
 },
 "nbformat": 4,
 "nbformat_minor": 5
}
