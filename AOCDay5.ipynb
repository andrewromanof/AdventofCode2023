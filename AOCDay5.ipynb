{
 "cells": [
  {
   "cell_type": "markdown",
   "id": "c6135d75-4a67-499f-8f32-849fff80c806",
   "metadata": {},
   "source": [
    "# Advent of Code Day 5\n",
    "#### Problem in full can be found here: https://adventofcode.com/2023/day/5"
   ]
  },
  {
   "cell_type": "code",
   "execution_count": 11,
   "id": "506c7fab-0ff7-4e2c-88d1-e057baf8a8e2",
   "metadata": {},
   "outputs": [
    {
     "name": "stdout",
     "output_type": "stream",
     "text": [
      "486613012\n"
     ]
    }
   ],
   "source": [
    "# part 1\n",
    "# Given input with starting seeds, run the seeds through a mapping algorithm to find the locations of all the seeds then print out the closest\n",
    "# seed's location\n",
    "\n",
    "# Open the file in read and write mode\n",
    "with open(\"inputday5.txt\", 'r+') as file:\n",
    "    # Move the cursor to the end of the file\n",
    "    file.seek(0, 2)\n",
    "    \n",
    "    # Write a newline character to add a blank line\n",
    "    file.write('\\n')\n",
    "\n",
    "file = open(\"inputday5.txt\")\n",
    "file_input = file.readline()\n",
    "\n",
    "# Get the seeds\n",
    "seeds = getSeeds(file_input)\n",
    "\n",
    "# Convert the mapping as needed\n",
    "line = file.readline()\n",
    "line = file.readline()\n",
    "line = file.readline()\n",
    "\n",
    "for line in file:\n",
    "    line = line.strip()\n",
    "    line += ' '\n",
    "\n",
    "    # If the line contains mapping information\n",
    "    if line[0].isnumeric():\n",
    "        nums = []\n",
    "        num = \"\"\n",
    "        i = 0\n",
    "        while i < len(line):\n",
    "            if line[i].isnumeric():\n",
    "                num += line[i]\n",
    "            else:\n",
    "                nums.append(int(num))\n",
    "                num = \"\"\n",
    "            i += 1\n",
    "        seeds = convertMap(seeds, nums[0], nums[1], nums[2])\n",
    "    # If the line is the end of the mapping information, convert the seeds to prepare for the next map\n",
    "    elif line[0] == ' ':\n",
    "        newSeeds = {}\n",
    "        for key in seeds:\n",
    "            newSeeds[seeds[key]] = seeds[key]\n",
    "        seeds = newSeeds\n",
    "\n",
    "file.close()\n",
    "\n",
    "# Print the nearest location\n",
    "smallest_key = min(seeds.keys())\n",
    "print(smallest_key)"
   ]
  },
  {
   "cell_type": "code",
   "execution_count": 14,
   "id": "2b139919-386d-41a6-9c35-cdc5e6d96dd1",
   "metadata": {},
   "outputs": [],
   "source": [
    "# Sends back a dictionary with the initial seeds\n",
    "def getSeeds(seedsLine):\n",
    "    seeds = {}\n",
    "    seed = \"\"\n",
    "    i = 7\n",
    "    while i < len(seedsLine):\n",
    "        if seedsLine[i].isnumeric():\n",
    "            seed += seedsLine[i]\n",
    "        else:\n",
    "            seeds[int(seed)] = int(seed)\n",
    "            seed = \"\"\n",
    "        i += 1\n",
    "    return seeds"
   ]
  },
  {
   "cell_type": "code",
   "execution_count": 15,
   "id": "94b80e0c-9309-4b8a-8362-ee7a04254fee",
   "metadata": {},
   "outputs": [],
   "source": [
    "# Converts the current seeds and their keys to the new mapped version\n",
    "def convertMap(seeds, destination, source, length):\n",
    "    for key in seeds:\n",
    "        if key <= source+length-1 and key >= source:\n",
    "            seeds[key] = destination + (key - source)\n",
    "    return seeds"
   ]
  },
  {
   "cell_type": "code",
   "execution_count": 16,
   "id": "2260356f-3582-4af8-affa-f58a5b14e0ca",
   "metadata": {},
   "outputs": [],
   "source": [
    "# similiar to convertMap but starts from the end\n",
    "def reverse_lookup_seed(location):\n",
    "    value = location\n",
    "    for current_map in reversed(maps):\n",
    "        value = next(\n",
    "            (source_range.start + (value - destination_range.start)\n",
    "             for source_range, destination_range in current_map.items()\n",
    "             if value in destination_range),\n",
    "            value)\n",
    "    return value"
   ]
  },
  {
   "cell_type": "code",
   "execution_count": 13,
   "id": "7a88effc-2e82-494f-9406-f3d327abae8c",
   "metadata": {},
   "outputs": [
    {
     "name": "stdout",
     "output_type": "stream",
     "text": [
      "56931769\n"
     ]
    }
   ],
   "source": [
    "import re\n",
    "# part 2\n",
    "# Start backwards with a location to get the first seed that is in a valid range as that will be the minimum seed\n",
    "\n",
    "with open('inputday5.txt', 'r') as f:\n",
    "    input_data = f.read().splitlines()\n",
    "\n",
    "# Add all the input data to an array\n",
    "maps = []\n",
    "for line in input_data[2:]:\n",
    "    if 'map' in line:\n",
    "        maps.append(dict())\n",
    "    elif line != '':\n",
    "        destination, source, length = [int(value) for value in line.split()]\n",
    "        maps[-1][range(source, source+length)] \\\n",
    "            = range(destination, destination+length)\n",
    "\n",
    "# Put the seeds in an array\n",
    "initial_seed_data = [int(seed) for seed in re.findall(r'\\d+', input_data[0])]\n",
    "\n",
    "# Get the ranges of the seeds\n",
    "seed_ranges = []\n",
    "for index in range(0, len(initial_seed_data) - 1, 2):\n",
    "    start, length = initial_seed_data[index:index+2]\n",
    "    seed_ranges.append(range(start, start+length))\n",
    "\n",
    "# Check each location backwards until it finds the first location that is in the seed range\n",
    "location = 0\n",
    "while True:\n",
    "    potential_seed = reverse_lookup_seed(location)\n",
    "    if any(potential_seed in seed_range for seed_range in seed_ranges):\n",
    "        print(location)\n",
    "        break\n",
    "    location += 1"
   ]
  },
  {
   "cell_type": "code",
   "execution_count": null,
   "id": "3730de3f-0e40-4785-bc1d-f024cd0ece21",
   "metadata": {},
   "outputs": [],
   "source": []
  }
 ],
 "metadata": {
  "kernelspec": {
   "display_name": "Python 3 (ipykernel)",
   "language": "python",
   "name": "python3"
  },
  "language_info": {
   "codemirror_mode": {
    "name": "ipython",
    "version": 3
   },
   "file_extension": ".py",
   "mimetype": "text/x-python",
   "name": "python",
   "nbconvert_exporter": "python",
   "pygments_lexer": "ipython3",
   "version": "3.10.12"
  }
 },
 "nbformat": 4,
 "nbformat_minor": 5
}
