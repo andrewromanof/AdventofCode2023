{
 "cells": [
  {
   "cell_type": "markdown",
   "id": "386b7abd-a4a9-481a-93b9-c3dfb68f75fd",
   "metadata": {},
   "source": [
    "# Advent of Code Day 12\n",
    "#### Problem in full can be found here: https://adventofcode.com/2023/day/12"
   ]
  },
  {
   "cell_type": "code",
   "execution_count": 14,
   "id": "506c7fab-0ff7-4e2c-88d1-e057baf8a8e2",
   "metadata": {},
   "outputs": [
    {
     "name": "stdout",
     "output_type": "stream",
     "text": [
      "7173\n",
      "29826669191291\n"
     ]
    }
   ],
   "source": [
    "# Given input where each line has a pattern of '#', '.', and '?' with numbers at the end, break each line down and return the sum\n",
    "# of combinations that fit the numbers where you can replace the '?' with '.' and '#'. The numbers represent the amount and order of the\n",
    "# '#' so it is important that the combination matches that and there must be a '.' between sequences.\n",
    "# Example: .??..??...?##. 1,1,3 has 4 arrangements:\n",
    "# ..#...#...###, ..#..#....###, .#....#...###, .#...#....###\n",
    "file = open(\"inputday12.txt\")\n",
    "\n",
    "result, result2 = 0, 0\n",
    "\n",
    "for line in file:\n",
    "    line = line.strip()\n",
    "\n",
    "    input, num = \"\", \"\"\n",
    "    conditions = []\n",
    "    index = 0\n",
    "    \n",
    "    # Collect the input string from the line\n",
    "    while line[index] != ' ':\n",
    "        input += line[index]\n",
    "        index += 1\n",
    "\n",
    "    # Collect the conditions from the line\n",
    "    for i in range(index, len(line)):\n",
    "        if line[i] != ',':\n",
    "            num += line[i]\n",
    "        else:\n",
    "            conditions.append(int(num))\n",
    "            num = \"\"\n",
    "    conditions.append(int(num))\n",
    "\n",
    "    # part 2\n",
    "    # Do the same thing but the input is 5x larger\n",
    "    input2 = input + \"?\" + input + \"?\" + input + \"?\" + input + \"?\" + input\n",
    "\n",
    "    # Add total amount of valid combinations to sum\n",
    "    result += recursiveSolution(input + \".\", tuple(conditions), 0)\n",
    "    result2 += recursiveSolution(input2 + \".\", tuple(conditions) * 5, 0)\n",
    "\n",
    "file.close()\n",
    "print(result)\n",
    "print(result2)"
   ]
  },
  {
   "cell_type": "code",
   "execution_count": 16,
   "id": "5efb939c-bc80-4f57-b5c5-87f861c75df2",
   "metadata": {},
   "outputs": [],
   "source": [
    "# Function to recrusively find the combinatinos of valid solutions\n",
    "from functools import cache\n",
    "\n",
    "# The cache helps improve performance since a lot of function calls are being made, the cache will make it so that\n",
    "# the function doesn't do repeat calculations and will memorize the inputs and just give the output saving a lot\n",
    "# of time and efficiency\n",
    "@cache\n",
    "def recursiveSolution(input, conditions, hashtagCount=0):\n",
    "    # Once the input is empty, return True or False (1 or 0) based on conditions and count being empty or not\n",
    "    if not input:\n",
    "        return not conditions and not hashtagCount\n",
    "\n",
    "    n = 0\n",
    "    \n",
    "    # Case where it is a '.' or '?' and that conditions aren't empty and that if the first index in conditions is equal\n",
    "    # to count to make sure it follows the conditions or if count is empty because no hashtags have been added\n",
    "    if (input[0] == '.' or input[0] == '?') and (conditions and conditions[0] == hashtagCount or not hashtagCount):\n",
    "        # Recursively go to the next character in the input, and the next condition if the hashtag count was not 0\n",
    "        n += recursiveSolution(input[1:], conditions[1:] if hashtagCount else conditions)\n",
    "\n",
    "    # Case where it is a '#' or '?'\n",
    "    if input[0] == '#' or input[0] == '?':\n",
    "        # Recursively go to the next character in the input, the same conditions, and a +1 on the hashtag count because the\n",
    "        # current one is or can be a hashtag\n",
    "        n += recursiveSolution(input[1:], conditions, hashtagCount+1)\n",
    "\n",
    "    # Return result\n",
    "    return n\n",
    "    \n",
    "        "
   ]
  },
  {
   "cell_type": "code",
   "execution_count": null,
   "id": "7cba93c7-ccf9-407e-a7e1-7d5a8e3c42f8",
   "metadata": {},
   "outputs": [],
   "source": []
  }
 ],
 "metadata": {
  "kernelspec": {
   "display_name": "Python 3 (ipykernel)",
   "language": "python",
   "name": "python3"
  },
  "language_info": {
   "codemirror_mode": {
    "name": "ipython",
    "version": 3
   },
   "file_extension": ".py",
   "mimetype": "text/x-python",
   "name": "python",
   "nbconvert_exporter": "python",
   "pygments_lexer": "ipython3",
   "version": "3.10.12"
  }
 },
 "nbformat": 4,
 "nbformat_minor": 5
}
