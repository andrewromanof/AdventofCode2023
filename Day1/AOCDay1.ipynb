{
 "cells": [
  {
   "cell_type": "markdown",
   "id": "e32cf0ad-a912-4239-8a0d-dfbaa1a8e242",
   "metadata": {},
   "source": [
    "# Advent of Code Day 1\n",
    "#### Problem in full can be found here: https://adventofcode.com/2023/day/1"
   ]
  },
  {
   "cell_type": "code",
   "execution_count": 12,
   "id": "26dcc29a-319a-4ad2-a4be-2be4415c4ce9",
   "metadata": {},
   "outputs": [
    {
     "name": "stdout",
     "output_type": "stream",
     "text": [
      "54019\n"
     ]
    }
   ],
   "source": [
    "# Problem: Sum up a input of strings by taking each line of string and taking the first number that comes up\n",
    "# and concatenating it with the last number comes up and the number will come in the form of a integer or string\n",
    "\n",
    "# Open the file\n",
    "file = open(\"inputday1.txt\")\n",
    "sum = 0\n",
    "# For each line in the file, send to bindNumbers function, add to sum\n",
    "for line in file:\n",
    "    # Clean up the line, remove the \\n at the end and replace the words to contain  a number\n",
    "    line = line.strip()\n",
    "    line = line.replace('one', 'o1e').replace('two', 't2o').replace('three', 'th3ee').replace('four', 'f4ur').replace('five', 'f5ve').replace('six', 's6x').replace('seven', 'se7en').replace('eight', 'ei8ht').replace('nine', 'n9ne')\n",
    "    \n",
    "    # Add to sum\n",
    "    sum += bindNumbers(line)\n",
    "# Close file, print sum\n",
    "file.close()\n",
    "print(sum)"
   ]
  },
  {
   "cell_type": "code",
   "execution_count": 11,
   "id": "fdd5c8a5-3022-4685-bb34-2b4db6c81946",
   "metadata": {},
   "outputs": [],
   "source": [
    "def bindNumbers(line):\n",
    "    # Find the first digit\n",
    "    for i in line:\n",
    "        if i.isdigit():\n",
    "            a = int(i) * 10\n",
    "            break\n",
    "    # Find the last digit\n",
    "    for i in line[::-1]:\n",
    "        if i.isdigit():\n",
    "            b = int(i)\n",
    "            break\n",
    "    # Return to add to the sum\n",
    "    return a + b"
   ]
  },
  {
   "cell_type": "code",
   "execution_count": null,
   "id": "4d237637-1925-4c11-b90c-0ce5342b8bd4",
   "metadata": {},
   "outputs": [],
   "source": []
  }
 ],
 "metadata": {
  "kernelspec": {
   "display_name": "Python 3 (ipykernel)",
   "language": "python",
   "name": "python3"
  },
  "language_info": {
   "codemirror_mode": {
    "name": "ipython",
    "version": 3
   },
   "file_extension": ".py",
   "mimetype": "text/x-python",
   "name": "python",
   "nbconvert_exporter": "python",
   "pygments_lexer": "ipython3",
   "version": "3.10.12"
  }
 },
 "nbformat": 4,
 "nbformat_minor": 5
}
