{
 "cells": [
  {
   "cell_type": "markdown",
   "id": "01e13d45-a447-4f78-958a-e9e27132fca7",
   "metadata": {},
   "source": [
    "# Advent of Code Day 4\n",
    "#### Problem in full can be found here: https://adventofcode.com/2023/day/4"
   ]
  },
  {
   "cell_type": "code",
   "execution_count": 22,
   "id": "7db9417c-7169-412d-bcbe-8409e89dff93",
   "metadata": {},
   "outputs": [
    {
     "name": "stdout",
     "output_type": "stream",
     "text": [
      "22193\n"
     ]
    }
   ],
   "source": [
    "# part 1\n",
    "# Given an input file where every line is a game and has two sets of cards that are all integers, find the score of each game by finding how many\n",
    "# numbers the cards share in common then multiplying the score by 2 each time other than the first time where you add 1\n",
    "file = open(\"inputday4.txt\")\n",
    "sum = 0\n",
    "for line in file:\n",
    "    # Get the game id\n",
    "    gameId, index = getGameId(line, 4)\n",
    "    # Get the cards in 2 arrays\n",
    "    card1, index = getCard(line, index)\n",
    "    card2, index = getCard(line, index+1)\n",
    "    # Get the intersection of the arrays\n",
    "    common_elements = set(card1).intersection(card2)\n",
    "    # Get the total of the winning cards\n",
    "    total = 0\n",
    "    for i in range(0, len(common_elements)):\n",
    "        if total == 0:\n",
    "            total += 1\n",
    "        else:\n",
    "            total *= 2\n",
    "    # Add the total of cards to the sum\n",
    "    sum += total\n",
    "file.close()\n",
    "print(sum)"
   ]
  },
  {
   "cell_type": "code",
   "execution_count": 23,
   "id": "82bbc3d4-8adf-4cda-974a-7c08a1cbfe93",
   "metadata": {},
   "outputs": [],
   "source": [
    "def getGameId(line, index):\n",
    "    gameId = \"\"\n",
    "    while line[index] != \":\":\n",
    "        if line[index].isnumeric():\n",
    "            gameId += line[index]\n",
    "        index += 1\n",
    "    return gameId, index+1"
   ]
  },
  {
   "cell_type": "code",
   "execution_count": 20,
   "id": "26f76741-3ff4-4589-be84-916e2cf2285c",
   "metadata": {},
   "outputs": [],
   "source": [
    "def getCard(line, index):\n",
    "    card = []\n",
    "    num = \"\"\n",
    "    while line[index] != \"|\" and index < len(line)-1:\n",
    "        if line[index] == \" \" and num != \"\":\n",
    "            card.append(int(num))\n",
    "            num = \"\"\n",
    "        elif line[index].isnumeric():\n",
    "            num += line[index]\n",
    "        index += 1\n",
    "    if num != \"\":\n",
    "        card.append(int(num))\n",
    "    return card, index"
   ]
  },
  {
   "cell_type": "code",
   "execution_count": 28,
   "id": "506c7fab-0ff7-4e2c-88d1-e057baf8a8e2",
   "metadata": {},
   "outputs": [
    {
     "name": "stdout",
     "output_type": "stream",
     "text": [
      "5625994\n"
     ]
    }
   ],
   "source": [
    "# part 2\n",
    "# Given an input file where every line is a game and has two sets of cards that are all integers, for every game where a card shares a pair, the next\n",
    "# game is played again so if card 1 has 4 pairs, game 2, 3, 4, 5 are played an extra time because of that and then if game 2 has 2 pairs, game 3, 4 are\n",
    "# played an extra time but the results are doubled since game 2 is played twice so game 3 will be played 4 times\n",
    "file = open(\"inputday4.txt\")\n",
    "gameDict = {}\n",
    "sum = 0\n",
    "for line in file:\n",
    "    # Get the current game id\n",
    "    gameId, index = getGameId(line, 4)\n",
    "    # Add 1 original count for the current game id\n",
    "    gameDict[gameId] = gameDict.get(gameId, 0) + 1\n",
    "    # Get the cards in 2 arrays\n",
    "    card1, index = getCard(line, index)\n",
    "    card2, index = getCard(line, index+1)\n",
    "    # Get the intersection of the arrays\n",
    "    common_elements = set(card1).intersection(card2)\n",
    "    # Update the count of cards\n",
    "    for i in range(0, len(common_elements)):\n",
    "        for j in range(0, gameDict.get(gameId)):\n",
    "            id = int(gameId) + i + 1\n",
    "            gameDict[str(id)] = gameDict.get(str(id), 0) + 1\n",
    "    sum += gameDict.get(gameId)\n",
    "file.close()\n",
    "print(sum)"
   ]
  },
  {
   "cell_type": "code",
   "execution_count": null,
   "id": "95e31097-f4bb-4f79-b241-93985894a018",
   "metadata": {},
   "outputs": [],
   "source": []
  }
 ],
 "metadata": {
  "kernelspec": {
   "display_name": "Python 3 (ipykernel)",
   "language": "python",
   "name": "python3"
  },
  "language_info": {
   "codemirror_mode": {
    "name": "ipython",
    "version": 3
   },
   "file_extension": ".py",
   "mimetype": "text/x-python",
   "name": "python",
   "nbconvert_exporter": "python",
   "pygments_lexer": "ipython3",
   "version": "3.10.12"
  }
 },
 "nbformat": 4,
 "nbformat_minor": 5
}
