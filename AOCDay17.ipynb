{
 "cells": [
  {
   "cell_type": "markdown",
   "id": "386b7abd-a4a9-481a-93b9-c3dfb68f75fd",
   "metadata": {},
   "source": [
    "# Advent of Code Day 17\n",
    "#### Problem in full can be found here: https://adventofcode.com/2023/day/17"
   ]
  },
  {
   "cell_type": "code",
   "execution_count": 111,
   "id": "506c7fab-0ff7-4e2c-88d1-e057baf8a8e2",
   "metadata": {},
   "outputs": [
    {
     "name": "stdout",
     "output_type": "stream",
     "text": [
      "963\n",
      "1178\n"
     ]
    }
   ],
   "source": [
    "# Given an input file that contains a map of integers, find the shortest cost path from the top left most corner\n",
    "# (start of the file) to the bottom right most corner (end of file)\n",
    "\n",
    "# Initialize input from file in 2D array\n",
    "file = open(\"inputday17.txt\")\n",
    "map = []\n",
    "for line in file:\n",
    "    line = line.strip()\n",
    "    map.append(list(line))\n",
    "file.close()\n",
    "\n",
    "# Using dijkstra's algorithm to find the path\n",
    "# part 1\n",
    "# Minimum of 1 step in a direction is required, maximum of 3\n",
    "print(dijkstra(map, (0, 0), 1, 3))\n",
    "# part 2\n",
    "# Minimum of 4 steps in a direction is required, maximum of 10\n",
    "print(dijkstra(map, (0, 0), 4, 10))"
   ]
  },
  {
   "cell_type": "code",
   "execution_count": 109,
   "id": "b48e4404-b1f0-497c-9d4f-927d8f2b4cd7",
   "metadata": {},
   "outputs": [],
   "source": [
    "from collections import defaultdict\n",
    "import heapq\n",
    "\n",
    "def dijkstra(map, start, minimum, maximum):\n",
    "    rows, cols = len(map), len(map[0])\n",
    "\n",
    "    # Initialize everything to infinity\n",
    "    costs = defaultdict(lambda: float('infinity'))\n",
    "\n",
    "    # Initialize the priorirty heap queue. It starts at (0, 0) and it can go right or down\n",
    "    priority_queue = [(start, 0, (0, 1)), (start, 0, (1, 0))] # (x, y), cost, direction\n",
    "\n",
    "    # While the queue is not empty\n",
    "    while priority_queue:\n",
    "        # Pop from the queue\n",
    "        current = heapq.heappop(priority_queue)\n",
    "\n",
    "        # Assign the variables\n",
    "        row, col = current[0][0], current[0][1]\n",
    "        cost = current[1]\n",
    "        directionRow, directionCol = current[2][0], current[2][1]\n",
    "\n",
    "        # If it has reached the target destination, return the cost\n",
    "        if (row, col) == (rows - 1, cols - 1):\n",
    "            return cost\n",
    "\n",
    "        # Skip if the node has already been visited\n",
    "        if cost > costs[(row, col), (directionRow, directionCol)]:\n",
    "            continue\n",
    "\n",
    "        # Explore neighbors and update distances\n",
    "        for dr, dc in ((-directionCol, directionRow), (directionCol, -directionRow)):\n",
    "            newCost = cost\n",
    "            # Limit to maximum steps in one direction\n",
    "            for step in range(1, maximum+1): \n",
    "                # Calculate new location\n",
    "                new_row, new_col = row + dr * step, col + dc * step\n",
    "\n",
    "                # Check if the new location is within the bounds of the map\n",
    "                if 0 <= new_row < rows and 0 <= new_col < cols:\n",
    "                    # Find the new cost\n",
    "                    newCost += int(map[new_row][new_col])\n",
    "\n",
    "                    # If the step hasn't reached the minimum amount of needed steps, continue before\n",
    "                    # adding it to the next q and updating the cost\n",
    "                    if step < minimum:\n",
    "                        continue\n",
    "    \n",
    "                    # If a less expensive cost (shorter distance) is found, then update the costs\n",
    "                    # and add to queue\n",
    "                    if newCost < costs[(new_row, new_col), (dr, dc)]:\n",
    "                        costs[(new_row, new_col), (dr, dc)] = newCost\n",
    "                        heapq.heappush(priority_queue, ((new_row, new_col), newCost, (dr, dc)))\n",
    "                else:\n",
    "                    break"
   ]
  },
  {
   "cell_type": "code",
   "execution_count": null,
   "id": "8f9c06c2-af0e-440c-b805-9ace95a50beb",
   "metadata": {},
   "outputs": [],
   "source": []
  }
 ],
 "metadata": {
  "kernelspec": {
   "display_name": "Python 3 (ipykernel)",
   "language": "python",
   "name": "python3"
  },
  "language_info": {
   "codemirror_mode": {
    "name": "ipython",
    "version": 3
   },
   "file_extension": ".py",
   "mimetype": "text/x-python",
   "name": "python",
   "nbconvert_exporter": "python",
   "pygments_lexer": "ipython3",
   "version": "3.10.12"
  }
 },
 "nbformat": 4,
 "nbformat_minor": 5
}
