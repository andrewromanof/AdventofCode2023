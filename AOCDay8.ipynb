{
 "cells": [
  {
   "cell_type": "markdown",
   "id": "598518e9-8515-4188-b385-97b46d526cdc",
   "metadata": {},
   "source": [
    "# Advent of Code Day 8\n",
    "#### Problem in full can be found here: https://adventofcode.com/2023/day/8"
   ]
  },
  {
   "cell_type": "code",
   "execution_count": 62,
   "id": "506c7fab-0ff7-4e2c-88d1-e057baf8a8e2",
   "metadata": {},
   "outputs": [
    {
     "name": "stdout",
     "output_type": "stream",
     "text": [
      "15517\n",
      "14935034899483\n"
     ]
    }
   ],
   "source": [
    "import math\n",
    "\n",
    "file = open(\"inputday8.txt\")\n",
    "\n",
    "# Getting the input from file, instructions from first line then the map into a dictionary\n",
    "instructions = file.readline()\n",
    "instructions = instructions.strip()\n",
    "file.readline()\n",
    "roadMap = {}\n",
    "current2 = []\n",
    "for line in file:\n",
    "    line = line.strip()\n",
    "    location, destinationL, destinationR = \"\", \"\", \"\"\n",
    "    index = 0\n",
    "    while line[index] != \" \":\n",
    "        location += line[index]\n",
    "        index += 1\n",
    "    index += 4\n",
    "    while line[index] != \",\":\n",
    "        destinationL += line[index]\n",
    "        index += 1\n",
    "    index += 2\n",
    "    while line[index] != \")\":\n",
    "        destinationR += line[index]\n",
    "        index += 1\n",
    "    roadMap[location] = [destinationL, destinationR]\n",
    "\n",
    "    if location[2] == \"A\":\n",
    "        current2.append(location)\n",
    "\n",
    "file.close()\n",
    "\n",
    "# Part 1\n",
    "# Print out how many steps following the LR instructions it takes to get from AAA to ZZZ\n",
    "\n",
    "current, destination = \"AAA\", \"ZZZ\"\n",
    "steps = getSteps(roadMap, instructions, current, destination)\n",
    "    \n",
    "print(steps)\n",
    "\n",
    "# part 2\n",
    "# Simultaneously run as current all of the locations that end in A until all of those locations find a destination that ends in Z\n",
    "\n",
    "# Get all the steps for all the locations that end in A\n",
    "totalSteps = []\n",
    "for place in current2:\n",
    "    totalSteps.append(getSteps2(roadMap, instructions, place))\n",
    "\n",
    "# Take the LCM\n",
    "steps2 = math.lcm(*totalSteps)\n",
    "\n",
    "print(steps2)"
   ]
  },
  {
   "cell_type": "code",
   "execution_count": 45,
   "id": "6b5ced3b-f678-40e3-a42a-9e8349a29a44",
   "metadata": {},
   "outputs": [],
   "source": [
    "def getSteps(roadMap, instructions, current, destination):\n",
    "    index, steps = 0, 0\n",
    "    while current != destination:\n",
    "        if index >= len(instructions):\n",
    "            index = 0\n",
    "        direction = 0 if instructions[index] == \"L\" else 1\n",
    "        current = roadMap[current][direction]\n",
    "        index += 1\n",
    "        steps += 1\n",
    "    return steps"
   ]
  },
  {
   "cell_type": "code",
   "execution_count": 44,
   "id": "bffe1f7b-1dbb-4d4d-810c-d5e61c5ab425",
   "metadata": {},
   "outputs": [],
   "source": [
    "def getSteps2(roadMap, instructions, current):\n",
    "    index, steps = 0, 0\n",
    "    while current[2] != \"Z\":\n",
    "        if index >= len(instructions):\n",
    "            index = 0\n",
    "        direction = 0 if instructions[index] == \"L\" else 1\n",
    "        current = roadMap[current][direction]\n",
    "        index += 1\n",
    "        steps += 1\n",
    "    return steps"
   ]
  },
  {
   "cell_type": "code",
   "execution_count": null,
   "id": "d62e2aa6-3e72-47e6-a5a6-7c16cd87593d",
   "metadata": {},
   "outputs": [],
   "source": []
  }
 ],
 "metadata": {
  "kernelspec": {
   "display_name": "Python 3 (ipykernel)",
   "language": "python",
   "name": "python3"
  },
  "language_info": {
   "codemirror_mode": {
    "name": "ipython",
    "version": 3
   },
   "file_extension": ".py",
   "mimetype": "text/x-python",
   "name": "python",
   "nbconvert_exporter": "python",
   "pygments_lexer": "ipython3",
   "version": "3.10.12"
  }
 },
 "nbformat": 4,
 "nbformat_minor": 5
}
