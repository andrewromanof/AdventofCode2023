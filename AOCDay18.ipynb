{
 "cells": [
  {
   "cell_type": "markdown",
   "id": "386b7abd-a4a9-481a-93b9-c3dfb68f75fd",
   "metadata": {},
   "source": [
    "# Advent of Code Day 18\n",
    "#### Problem in full can be found here: https://adventofcode.com/2023/day/18"
   ]
  },
  {
   "cell_type": "code",
   "execution_count": 147,
   "id": "506c7fab-0ff7-4e2c-88d1-e057baf8a8e2",
   "metadata": {},
   "outputs": [
    {
     "name": "stdout",
     "output_type": "stream",
     "text": [
      "108909\n",
      "133125706867777\n"
     ]
    }
   ],
   "source": [
    "# Given an input file where every line contains a direction, a length, and a hexadecimal number (part 2),\n",
    "# draw the shape of a dig plan and find the area of it.\n",
    "current = (0, 0)\n",
    "coords = []\n",
    "perimeter = 0\n",
    "current2 = (0, 0)\n",
    "coords2 = []\n",
    "perimeter2 = 0\n",
    "# Loop through the input file to collect the direction, the length and a hexadecimal number\n",
    "file = open(\"inputday18.txt\")\n",
    "for line in file:\n",
    "    line = line.strip()\n",
    "\n",
    "    # part 1\n",
    "    # extract the direction and length and draw the plan\n",
    "    direction = line[0]\n",
    "    i = 2\n",
    "    distance = \"\"\n",
    "    while line[i] != ' ':\n",
    "        distance += line[i]\n",
    "        i += 1\n",
    "    current = drawPlan2(current, direction, int(distance))\n",
    "    # Collect the perimeter\n",
    "    perimeter += int(distance)\n",
    "\n",
    "    # part 2\n",
    "    # extract the hexadecimal number, convert it to a direction and length and draw a new plan\n",
    "    hexadecimal = \"\"\n",
    "    # Get the hexadecimal number\n",
    "    while i < len(line):\n",
    "        if line[i].isdigit() or line[i].isalpha():\n",
    "            hexadecimal += line[i]\n",
    "        i += 1\n",
    "    # Get the direction based on the last integer in the hexadecimal number\n",
    "    direction2 = \"RDLU\"[int(hexadecimal[-1])]\n",
    "    # Get the distance based on the first 5 digits of the hexadecimal number\n",
    "    distance2 = int(hexadecimal[0:5], 16)\n",
    "    current2 = drawPlan2(current2, direction2, distance2, False)\n",
    "    # Collect the perimeter\n",
    "    perimeter2 += distance2\n",
    "            \n",
    "file.close()\n",
    "\n",
    "# Calculate the area using shoelace formula\n",
    "area = calculate_polygon_area(coords)\n",
    "area2 = calculate_polygon_area(coords2)\n",
    "# Calculate the interior points using picks theorem\n",
    "interior = picks(area, perimeter)\n",
    "interior2 = picks(area2, perimeter2)\n",
    "# Result is the interior points + exterior points (perimeter)\n",
    "print(interior + perimeter)\n",
    "print(interior2 + perimeter2)"
   ]
  },
  {
   "cell_type": "code",
   "execution_count": 148,
   "id": "8f9c06c2-af0e-440c-b805-9ace95a50beb",
   "metadata": {},
   "outputs": [],
   "source": [
    "# Function that draws the dig plan\n",
    "def drawPlan(current, direction, distance, part1=True):\n",
    "    # Add coordinates based on direction\n",
    "    if direction == \"U\":\n",
    "        current = (current[0]-distance, current[1])\n",
    "    elif direction == \"D\":\n",
    "        current = (current[0]+distance, current[1])\n",
    "    elif direction == \"R\":\n",
    "        current = (current[0], current[1]+distance)\n",
    "    else:\n",
    "        current = (current[0], current[1]-distance)\n",
    "\n",
    "    # Append to coordinate list based on part1 / part 2\n",
    "    if part1:\n",
    "        coords.append((current[0], current[1]))\n",
    "    else:\n",
    "        coords2.append((current[0], current[1]))\n",
    "    return current"
   ]
  },
  {
   "cell_type": "code",
   "execution_count": 140,
   "id": "03a885c9-4ba3-4211-93b2-9bf89668cdc5",
   "metadata": {},
   "outputs": [],
   "source": [
    "def calculate_polygon_area(coords):\n",
    "    # Shoelace formula\n",
    "    area = 0\n",
    "    for i in range(len(coords)):\n",
    "        # Calculate the signed area contribution of the current segment and add it to the total area\n",
    "        area += coords[i][0] * (coords[i - 1][1] - coords[(i + 1) % len(coords)][1])\n",
    "    return abs(area) // 2"
   ]
  },
  {
   "cell_type": "code",
   "execution_count": 93,
   "id": "94114eb0-6501-4790-a470-924fd2149536",
   "metadata": {},
   "outputs": [],
   "source": [
    "def picks(area, loop_size):\n",
    "    # Pick's theorem\n",
    "    # A = I + B/2 -1\n",
    "    # Solve for I (interior points)\n",
    "    return int(area - 0.5 * loop_size + 1)"
   ]
  },
  {
   "cell_type": "code",
   "execution_count": null,
   "id": "6223bfc2-70c8-448e-b836-a39703d41a39",
   "metadata": {},
   "outputs": [],
   "source": []
  }
 ],
 "metadata": {
  "kernelspec": {
   "display_name": "Python 3 (ipykernel)",
   "language": "python",
   "name": "python3"
  },
  "language_info": {
   "codemirror_mode": {
    "name": "ipython",
    "version": 3
   },
   "file_extension": ".py",
   "mimetype": "text/x-python",
   "name": "python",
   "nbconvert_exporter": "python",
   "pygments_lexer": "ipython3",
   "version": "3.10.12"
  }
 },
 "nbformat": 4,
 "nbformat_minor": 5
}
